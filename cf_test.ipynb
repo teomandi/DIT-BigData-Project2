{
 "cells": [
  {
   "cell_type": "code",
   "execution_count": 1,
   "metadata": {
    "collapsed": true,
    "pycharm": {
     "is_executing": false
    }
   },
   "outputs": [],
   "source": [
    "import pandas as pd\n",
    "import numpy as np\n",
    "import os\n",
    "import time\n",
    "from sklearn.metrics.pairwise import cosine_similarity\n",
    "from scipy.sparse import csr_matrix"
   ]
  },
  {
   "cell_type": "code",
   "execution_count": 2,
   "outputs": [],
   "source": [
    "import pickle\n",
    "\n",
    "def pickle_store(obj, filename):\n",
    "    with open(filename, 'wb') as file:\n",
    "        pickle.dump(obj, file)\n",
    "        \n",
    "def pickle_load(filename):\n",
    "    with open(filename, 'rb') as file:\n",
    "        return pickle.load(file)"
   ],
   "metadata": {
    "collapsed": false,
    "pycharm": {
     "name": "#%%\n",
     "is_executing": false
    }
   }
  },
  {
   "cell_type": "code",
   "execution_count": 5,
   "outputs": [],
   "source": [
    "movies_path = os.path.join(\"ml-25m\", \"movies.csv\")\n",
    "ratings_path = os.path.join(\"ml-25m\", \"ratings.csv\")\n",
    "\n",
    "user_mean_path = os.path.join(\"ml-25m\", \"user_mean.csv\")\n",
    "ratings_avg_path = os.path.join(\"ml-25m\", \"ratings_avg.csv\")\n",
    "ratings_avg2_path = os.path.join(\"ml-25m\", \"ratings_real_avg.csv\")\n",
    "\n",
    "final_path = os.path.join(\"ml-25m\", \"final.csv\")\n",
    "cosine_path = os.path.join(\"ml-25m\", \"cosine.csv\")\n",
    "\n",
    "pivot_table_path = os.path.join(\"ml-25m\", \"pivot_table.sparse\")"
   ],
   "metadata": {
    "collapsed": false,
    "pycharm": {
     "name": "#%%\n",
     "is_executing": false
    }
   }
  },
  {
   "cell_type": "markdown",
   "source": [
    "Collecting movies and users IDs"
   ],
   "metadata": {
    "collapsed": false,
    "pycharm": {
     "name": "#%% md\n",
     "is_executing": false
    }
   }
  },
  {
   "cell_type": "code",
   "execution_count": null,
   "outputs": [],
   "source": [
    "iteration = 0\n",
    "movies_ids = np.array([])\n",
    "users_ids = np.array([])\n",
    "headers_tm = time.time()\n",
    "for chunk in pd.read_csv(ratings_path, chunksize=100000):\n",
    "    movies_ids = np.append(movies_ids, chunk['movieId'].unique())\n",
    "    users_ids = np.append(users_ids, chunk['userId'].unique())\n",
    "    iteration += 1\n",
    "movies_ids = np.unique(movies_ids) \n",
    "users_ids = np.unique(users_ids) \n",
    "print(\"Took {:.3f}\".format(time.time()-headers_tm))"
   ],
   "metadata": {
    "collapsed": false,
    "pycharm": {
     "name": "#%%\n"
    }
   }
  },
  {
   "cell_type": "code",
   "execution_count": 8,
   "outputs": [
    {
     "name": "stdout",
     "text": [
      "iterations:  251\n",
      "dif movies are:  (59047,)\n",
      "dif users are:  (162541,)\n"
     ],
     "output_type": "stream"
    }
   ],
   "source": [
    "print(\"iterations: \", iteration)\n",
    "print(\"dif movies are: \", movies_ids.shape)\n",
    "print(\"dif users are: \", users_ids.shape)"
   ],
   "metadata": {
    "collapsed": false,
    "pycharm": {
     "name": "#%%\n",
     "is_executing": false
    }
   }
  },
  {
   "cell_type": "markdown",
   "source": [
    "### Creating PivotTable"
   ],
   "metadata": {
    "collapsed": false,
    "pycharm": {
     "name": "#%% md\n",
     "is_executing": false
    }
   }
  },
  {
   "cell_type": "code",
   "execution_count": null,
   "outputs": [],
   "source": [
    "starting_tm = time.time()\n",
    "pivot_table = csr_matrix((len(users_ids), len(movies_ids)))\n",
    "for chunk in pd.read_csv(ratings_path, chunksize=100000):\n",
    "    loop_tm = time.time()\n",
    "    rows = [i-1 for i in chunk['userId'].tolist()]\n",
    "    cols = [np.where(movies_ids == j)[0][0] for j in chunk['movieId']]\n",
    "    ratings = chunk['rating'].tolist()\n",
    "    avg_ratings = sum(ratings)/len(ratings)\n",
    "    fixed_ratings = [rate - avg_ratings for rate in ratings]\n",
    "    vals = fixed_ratings\n",
    "    pivot_table[rows, cols] = vals\n",
    "    print(\"Took {:.3f}\".format(time.time()-loop_tm))\n",
    "print(\"Took {:.3f}\".format(time.time()-starting_tm))"
   ],
   "metadata": {
    "collapsed": false,
    "pycharm": {
     "name": "#%%\n"
    }
   }
  },
  {
   "cell_type": "code",
   "execution_count": 5,
   "outputs": [
    {
     "name": "stdout",
     "text": [
      "PivoTable was stored\n"
     ],
     "output_type": "stream"
    }
   ],
   "source": [
    "#pickle_store(pivot_table, pivot_table_path)\n",
    "pivot_table = pickle_load(pivot_table_path)\n",
    "print(\"PivoTable was stored\")"
   ],
   "metadata": {
    "collapsed": false,
    "pycharm": {
     "name": "#%%\n",
     "is_executing": false
    }
   }
  },
  {
   "cell_type": "markdown",
   "source": [
    "# USER-Based\n",
    "\n",
    "---\n",
    "\n",
    "## Getting Predictions"
   ],
   "metadata": {
    "collapsed": false,
    "pycharm": {
     "name": "#%% md\n"
    }
   }
  },
  {
   "cell_type": "code",
   "execution_count": 12,
   "outputs": [],
   "source": [
    "Rating_avg = pd.read_csv(ratings_path)\n",
    "Rating_avg = Rating_avg.astype({\"movieId\": str})\n",
    "Movie_user = Rating_avg.groupby(by = 'userId')['movieId'].apply(lambda x:','.join(x))"
   ],
   "metadata": {
    "collapsed": false,
    "pycharm": {
     "name": "#%%\n",
     "is_executing": false
    }
   }
  },
  {
   "cell_type": "markdown",
   "source": [
    "### Get target and similar users"
   ],
   "metadata": {
    "collapsed": false,
    "pycharm": {
     "name": "#%% md\n",
     "is_executing": false
    }
   }
  },
  {
   "cell_type": "code",
   "execution_count": 14,
   "outputs": [
    {
     "name": "stdout",
     "text": [
      "Took 0.231\n",
      "(162541, 1)\n"
     ],
     "output_type": "stream"
    },
    {
     "data": {
      "text/plain": "array([[1.        ],\n       [0.006024  ],\n       [0.04152102],\n       ...,\n       [0.00857896],\n       [0.00486698],\n       [0.03155599]])"
     },
     "metadata": {},
     "output_type": "execute_result",
     "execution_count": 14
    }
   ],
   "source": [
    "target_user_id =  1\n",
    "\n",
    "similarity_tm = time.time()\n",
    "user_similarities = cosine_similarity(pivot_table, pivot_table.getrow(target_user_id-1))\n",
    "print(\"Took {:.3f}\".format(time.time()-similarity_tm))\n",
    "print(user_similarities.shape)\n",
    "user_similarities"
   ],
   "metadata": {
    "collapsed": false,
    "pycharm": {
     "name": "#%%\n",
     "is_executing": false
    }
   }
  },
  {
   "cell_type": "code",
   "execution_count": 15,
   "outputs": [],
   "source": [
    "similar_users = (-user_similarities).argsort(axis=0)\n",
    "most_similar_users = (similar_users[1:11]).squeeze().tolist()  # the first is itself"
   ],
   "metadata": {
    "collapsed": false,
    "pycharm": {
     "name": "#%%\n",
     "is_executing": false
    }
   }
  },
  {
   "cell_type": "markdown",
   "source": [
    "### Get the movies which similar users has seen\n",
    "    "
   ],
   "metadata": {
    "collapsed": false,
    "pycharm": {
     "name": "#%% md\n"
    }
   }
  },
  {
   "cell_type": "code",
   "execution_count": 16,
   "outputs": [
    {
     "name": "stdout",
     "text": [
      "217\n"
     ],
     "output_type": "stream"
    }
   ],
   "source": [
    "movies_seen_by_similar_users = []\n",
    "for user in most_similar_users:\n",
    "    movies_seen_by_similar_users.extend(pivot_table.getrow(user).nonzero()[1])\n",
    "movies_seen_by_similar_users = set(movies_seen_by_similar_users)\n",
    "print(len(movies_seen_by_similar_users))"
   ],
   "metadata": {
    "collapsed": false,
    "pycharm": {
     "name": "#%%\n",
     "is_executing": false
    }
   }
  },
  {
   "cell_type": "code",
   "execution_count": 17,
   "outputs": [
    {
     "name": "stdout",
     "text": [
      "70\n"
     ],
     "output_type": "stream"
    }
   ],
   "source": [
    "movies_seen_by_target_user = pivot_table.getrow(target_user_id-1).nonzero()[1]\n",
    "print(len(movies_seen_by_target_user))"
   ],
   "metadata": {
    "collapsed": false,
    "pycharm": {
     "name": "#%% \n",
     "is_executing": false
    }
   }
  },
  {
   "cell_type": "code",
   "execution_count": 18,
   "outputs": [
    {
     "name": "stdout",
     "text": [
      "196\n"
     ],
     "output_type": "stream"
    }
   ],
   "source": [
    "movies_under_consideration = list(set(movies_seen_by_similar_users) - set(movies_seen_by_target_user))\n",
    "print(len(movies_under_consideration))"
   ],
   "metadata": {
    "collapsed": false,
    "pycharm": {
     "name": "#%%\n",
     "is_executing": false
    }
   }
  },
  {
   "cell_type": "code",
   "execution_count": 37,
   "outputs": [],
   "source": [
    "movie_avg_ratings = []\n",
    "for movie in movies_under_consideration:\n",
    "    movie_ratings = pivot_table[most_similar_users, movie].toarray().squeeze().tolist()\n",
    "    # movie_avg_ratings.append(sum(movie_ratings)/len(movie_ratings))\n",
    "    movie_avg_ratings.append(sum([r*user_similarities[sid][0] for r,sid in zip(movie_ratings, most_similar_users)])/sum([user_similarities[sid][0] for sid in most_similar_users]))"
   ],
   "metadata": {
    "collapsed": false,
    "pycharm": {
     "name": "#%%\n",
     "is_executing": false
    }
   }
  },
  {
   "cell_type": "code",
   "execution_count": 38,
   "outputs": [
    {
     "name": "stdout",
     "text": [
      "[180, 90, 164, 28]\n"
     ],
     "output_type": "stream"
    }
   ],
   "source": [
    "best_movies_indexes = np.array(movie_avg_ratings).argsort()[:4].tolist()\n",
    "predictions = [int(movies_ids[idx]) for idx in best_movies_indexes]\n",
    "print(predictions)"
   ],
   "metadata": {
    "collapsed": false,
    "pycharm": {
     "name": "#%%\n",
     "is_executing": false
    }
   }
  },
  {
   "cell_type": "markdown",
   "source": [
    "# ITEM-Based\n",
    "---\n"
   ],
   "metadata": {
    "collapsed": false,
    "pycharm": {
     "name": "#%% md\n"
    }
   }
  }
 ],
 "metadata": {
  "kernelspec": {
   "display_name": "Python 3",
   "language": "python",
   "name": "python3"
  },
  "language_info": {
   "codemirror_mode": {
    "name": "ipython",
    "version": 2
   },
   "file_extension": ".py",
   "mimetype": "text/x-python",
   "name": "python",
   "nbconvert_exporter": "python",
   "pygments_lexer": "ipython2",
   "version": "2.7.6"
  },
  "pycharm": {
   "stem_cell": {
    "cell_type": "raw",
    "source": [],
    "metadata": {
     "collapsed": false
    }
   }
  }
 },
 "nbformat": 4,
 "nbformat_minor": 0
}