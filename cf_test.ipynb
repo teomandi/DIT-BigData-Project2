{
 "cells": [
  {
   "cell_type": "code",
   "execution_count": 1,
   "metadata": {
    "collapsed": true,
    "pycharm": {
     "is_executing": false
    }
   },
   "outputs": [],
   "source": [
    "import pandas as pd\n",
    "import numpy as np\n",
    "import os\n",
    "import time\n",
    "from sklearn.metrics.pairwise import cosine_similarity\n",
    "from scipy.sparse import csr_matrix"
   ]
  },
  {
   "cell_type": "code",
   "execution_count": 2,
   "outputs": [],
   "source": [
    "import pickle\n",
    "\n",
    "def pickle_store(obj, filename):\n",
    "    with open(filename, 'wb') as file:\n",
    "        pickle.dump(obj, file)\n",
    "        \n",
    "def pickle_load(filename):\n",
    "    with open(filename, 'rb') as file:\n",
    "        return pickle.load(file)"
   ],
   "metadata": {
    "collapsed": false,
    "pycharm": {
     "name": "#%%\n",
     "is_executing": false
    }
   }
  },
  {
   "cell_type": "code",
   "execution_count": 5,
   "outputs": [],
   "source": [
    "movies_path = os.path.join(\"ml-25m\", \"movies.csv\")\n",
    "ratings_path = os.path.join(\"ml-25m\", \"ratings.csv\")\n",
    "\n",
    "user_mean_path = os.path.join(\"ml-25m\", \"user_mean.csv\")\n",
    "ratings_avg_path = os.path.join(\"ml-25m\", \"ratings_avg.csv\")\n",
    "ratings_avg2_path = os.path.join(\"ml-25m\", \"ratings_real_avg.csv\")\n",
    "\n",
    "final_path = os.path.join(\"ml-25m\", \"final.csv\")\n",
    "cosine_path = os.path.join(\"ml-25m\", \"cosine.csv\")\n",
    "\n",
    "pivot_table_path = os.path.join(\"ml-25m\", \"pivot_table.sparse\")"
   ],
   "metadata": {
    "collapsed": false,
    "pycharm": {
     "name": "#%%\n",
     "is_executing": false
    }
   }
  },
  {
   "cell_type": "markdown",
   "source": [
    "Collecting movies and users IDs"
   ],
   "metadata": {
    "collapsed": false,
    "pycharm": {
     "name": "#%% md\n",
     "is_executing": false
    }
   }
  },
  {
   "cell_type": "code",
   "execution_count": null,
   "outputs": [],
   "source": [
    "iteration = 0\n",
    "movies_ids = np.array([])\n",
    "users_ids = np.array([])\n",
    "headers_tm = time.time()\n",
    "for chunk in pd.read_csv(ratings_path, chunksize=100000):\n",
    "    movies_ids = np.append(movies_ids, chunk['movieId'].unique())\n",
    "    users_ids = np.append(users_ids, chunk['userId'].unique())\n",
    "    iteration += 1\n",
    "movies_ids = np.unique(movies_ids) \n",
    "users_ids = np.unique(users_ids) \n",
    "print(\"Took {:.3f}\".format(time.time()-headers_tm))"
   ],
   "metadata": {
    "collapsed": false,
    "pycharm": {
     "name": "#%%\n"
    }
   }
  },
  {
   "cell_type": "code",
   "execution_count": 8,
   "outputs": [
    {
     "name": "stdout",
     "text": [
      "iterations:  251\n",
      "dif movies are:  (59047,)\n",
      "dif users are:  (162541,)\n"
     ],
     "output_type": "stream"
    }
   ],
   "source": [
    "print(\"iterations: \", iteration)\n",
    "print(\"dif movies are: \", movies_ids.shape)\n",
    "print(\"dif users are: \", users_ids.shape)"
   ],
   "metadata": {
    "collapsed": false,
    "pycharm": {
     "name": "#%%\n",
     "is_executing": false
    }
   }
  },
  {
   "cell_type": "markdown",
   "source": [
    "### Creating PivotTable"
   ],
   "metadata": {
    "collapsed": false,
    "pycharm": {
     "name": "#%% md\n",
     "is_executing": false
    }
   }
  },
  {
   "cell_type": "code",
   "execution_count": null,
   "outputs": [],
   "source": [
    "starting_tm = time.time()\n",
    "pivot_table = csr_matrix((len(users_ids), len(movies_ids)))\n",
    "for chunk in pd.read_csv(ratings_path, chunksize=100000):\n",
    "    loop_tm = time.time()\n",
    "    rows = [i-1 for i in chunk['userId'].tolist()]\n",
    "    cols = [np.where(movies_ids == j)[0][0] for j in chunk['movieId']]\n",
    "    ratings = chunk['rating'].tolist()\n",
    "    avg_ratings = sum(ratings)/len(ratings)\n",
    "    fixed_ratings = [rate - avg_ratings for rate in ratings]\n",
    "    vals = fixed_ratings\n",
    "    pivot_table[rows, cols] = vals\n",
    "    print(\"Took {:.3f}\".format(time.time()-loop_tm))\n",
    "print(\"Took {:.3f}\".format(time.time()-starting_tm))"
   ],
   "metadata": {
    "collapsed": false,
    "pycharm": {
     "name": "#%%\n"
    }
   }
  },
  {
   "cell_type": "code",
   "execution_count": 5,
   "outputs": [
    {
     "name": "stdout",
     "text": [
      "PivoTable was stored\n"
     ],
     "output_type": "stream"
    }
   ],
   "source": [
    "#pickle_store(pivot_table, pivot_table_path)\n",
    "pivot_table = pickle_load(pivot_table_path)\n",
    "print(\"PivoTable was stored\")"
   ],
   "metadata": {
    "collapsed": false,
    "pycharm": {
     "name": "#%%\n",
     "is_executing": false
    }
   }
  },
  {
   "cell_type": "markdown",
   "source": [
    "# USER-Based\n",
    "\n",
    "---\n",
    "\n",
    "## Getting Predictions"
   ],
   "metadata": {
    "collapsed": false,
    "pycharm": {
     "name": "#%% md\n"
    }
   }
  },
  {
   "cell_type": "code",
   "execution_count": 12,
   "outputs": [],
   "source": [
    "Rating_avg = pd.read_csv(ratings_path)\n",
    "Rating_avg = Rating_avg.astype({\"movieId\": str})\n",
    "Movie_user = Rating_avg.groupby(by = 'userId')['movieId'].apply(lambda x:','.join(x))"
   ],
   "metadata": {
    "collapsed": false,
    "pycharm": {
     "name": "#%%\n",
     "is_executing": false
    }
   }
  },
  {
   "cell_type": "markdown",
   "source": [
    "### Get target and similar users"
   ],
   "metadata": {
    "collapsed": false,
    "pycharm": {
     "name": "#%% md\n",
     "is_executing": false
    }
   }
  },
  {
   "cell_type": "code",
   "execution_count": 56,
   "outputs": [
    {
     "name": "stdout",
     "text": [
      "(162541, 59047) -- (1, 59047)\n"
     ],
     "output_type": "stream"
    }
   ],
   "source": [
    "target_user_id =  1\n",
    "print(pivot_table.shape, \"--\", pivot_table.getrow(target_user_id-1).shape)"
   ],
   "metadata": {
    "collapsed": false,
    "pycharm": {
     "name": "#%%\n",
     "is_executing": false
    }
   }
  },
  {
   "cell_type": "code",
   "execution_count": null,
   "outputs": [],
   "source": [
    "similarity_tm = time.time()\n",
    "user_similarities = cosine_similarity(pivot_table, pivot_table.getrow(target_user_id-1))\n",
    "print(\"Took {:.3f}\".format(time.time()-similarity_tm))\n",
    "print(user_similarities.shape)\n",
    "user_similarities"
   ],
   "metadata": {
    "collapsed": false,
    "pycharm": {
     "name": "#%%\n"
    }
   }
  },
  {
   "cell_type": "code",
   "execution_count": 15,
   "outputs": [],
   "source": [
    "similar_users = (-user_similarities).argsort(axis=0)\n",
    "most_similar_users = (similar_users[1:11]).squeeze().tolist()  # the first is itself"
   ],
   "metadata": {
    "collapsed": false,
    "pycharm": {
     "name": "#%%\n",
     "is_executing": false
    }
   }
  },
  {
   "cell_type": "markdown",
   "source": [
    "### Get the movies which similar users has seen\n",
    "    "
   ],
   "metadata": {
    "collapsed": false,
    "pycharm": {
     "name": "#%% md\n"
    }
   }
  },
  {
   "cell_type": "code",
   "execution_count": 16,
   "outputs": [
    {
     "name": "stdout",
     "text": [
      "217\n"
     ],
     "output_type": "stream"
    }
   ],
   "source": [
    "movies_seen_by_similar_users = []\n",
    "for user in most_similar_users:\n",
    "    movies_seen_by_similar_users.extend(pivot_table.getrow(user).nonzero()[1])\n",
    "movies_seen_by_similar_users = set(movies_seen_by_similar_users)\n",
    "print(len(movies_seen_by_similar_users))"
   ],
   "metadata": {
    "collapsed": false,
    "pycharm": {
     "name": "#%%\n",
     "is_executing": false
    }
   }
  },
  {
   "cell_type": "code",
   "execution_count": 17,
   "outputs": [
    {
     "name": "stdout",
     "text": [
      "70\n"
     ],
     "output_type": "stream"
    }
   ],
   "source": [
    "movies_seen_by_target_user = pivot_table.getrow(target_user_id-1).nonzero()[1]\n",
    "print(len(movies_seen_by_target_user))"
   ],
   "metadata": {
    "collapsed": false,
    "pycharm": {
     "name": "#%% \n",
     "is_executing": false
    }
   }
  },
  {
   "cell_type": "code",
   "execution_count": 18,
   "outputs": [
    {
     "name": "stdout",
     "text": [
      "196\n"
     ],
     "output_type": "stream"
    }
   ],
   "source": [
    "movies_under_consideration = list(set(movies_seen_by_similar_users) - set(movies_seen_by_target_user))\n",
    "print(len(movies_under_consideration))"
   ],
   "metadata": {
    "collapsed": false,
    "pycharm": {
     "name": "#%%\n",
     "is_executing": false
    }
   }
  },
  {
   "cell_type": "code",
   "execution_count": 37,
   "outputs": [],
   "source": [
    "movie_avg_ratings = []\n",
    "for movie in movies_under_consideration:\n",
    "    movie_ratings = pivot_table[most_similar_users, movie].toarray().squeeze().tolist()\n",
    "    # movie_avg_ratings.append(sum(movie_ratings)/len(movie_ratings))\n",
    "    movie_avg_ratings.append(sum([r*user_similarities[sid][0] for r,sid in zip(movie_ratings, most_similar_users)])/sum([user_similarities[sid][0] for sid in most_similar_users]))"
   ],
   "metadata": {
    "collapsed": false,
    "pycharm": {
     "name": "#%%\n",
     "is_executing": false
    }
   }
  },
  {
   "cell_type": "code",
   "execution_count": 38,
   "outputs": [
    {
     "name": "stdout",
     "text": [
      "[180, 90, 164, 28]\n"
     ],
     "output_type": "stream"
    }
   ],
   "source": [
    "best_movies_indexes = np.array(movie_avg_ratings).argsort()[:4].tolist()\n",
    "predictions = [int(movies_ids[idx]) for idx in best_movies_indexes]\n",
    "print(predictions)"
   ],
   "metadata": {
    "collapsed": false,
    "pycharm": {
     "name": "#%%\n",
     "is_executing": false
    }
   }
  },
  {
   "cell_type": "markdown",
   "source": [
    "# ITEM-Based\n",
    "---"
   ],
   "metadata": {
    "collapsed": false,
    "pycharm": {
     "name": "#%% md\n"
    }
   }
  },
  {
   "cell_type": "code",
   "execution_count": 43,
   "outputs": [
    {
     "data": {
      "text/plain": "(1, 59047)"
     },
     "metadata": {},
     "output_type": "execute_result",
     "execution_count": 43
    }
   ],
   "source": [
    "target_user_id =  1"
   ],
   "metadata": {
    "collapsed": false,
    "pycharm": {
     "name": "#%%\n",
     "is_executing": false
    }
   }
  },
  {
   "cell_type": "markdown",
   "source": [
    "Movies that target user has not seen"
   ],
   "metadata": {
    "collapsed": false,
    "pycharm": {
     "name": "#%% md\n"
    }
   }
  },
  {
   "cell_type": "code",
   "execution_count": 49,
   "outputs": [],
   "source": [
    "target_ratings = pivot_table.getrow(target_user_id -1)\n",
    "movies_that_user_has_seen = pivot_table.getrow(target_user_id -1).nonzero()[1].tolist()"
   ],
   "metadata": {
    "collapsed": false,
    "pycharm": {
     "name": "#%%\n",
     "is_executing": false
    }
   }
  },
  {
   "cell_type": "code",
   "execution_count": 68,
   "outputs": [
    {
     "name": "stdout",
     "text": [
      "(59047, 162541)\n",
      "(1, 162541)\n"
     ],
     "output_type": "stream"
    }
   ],
   "source": [
    "target_movie_id = 2  # example\n",
    "print(pivot_table.transpose().shape)\n",
    "print(pivot_table.getcol(target_movie_id).transpose().shape)"
   ],
   "metadata": {
    "collapsed": false,
    "pycharm": {
     "name": "#%%\n",
     "is_executing": false
    }
   }
  },
  {
   "cell_type": "code",
   "execution_count": 69,
   "outputs": [],
   "source": [
    "similarity_movies = cosine_similarity(pivot_table.transpose(), pivot_table.getcol(target_movie_id).transpose())\n"
   ],
   "metadata": {
    "collapsed": false,
    "pycharm": {
     "name": "#%%\n",
     "is_executing": false
    }
   }
  },
  {
   "cell_type": "markdown",
   "source": [
    "Top 20 similar movies that have been rated by target user"
   ],
   "metadata": {
    "collapsed": false,
    "pycharm": {
     "name": "#%% md\n",
     "is_executing": false
    }
   }
  },
  {
   "cell_type": "code",
   "execution_count": 83,
   "outputs": [
    {
     "name": "stdout",
     "text": [
      "59046\n",
      "70\n",
      "70\n"
     ],
     "output_type": "stream"
    }
   ],
   "source": [
    "indicative_movies = []\n",
    "similar_movies = (-similarity_movies).argsort(axis=0)\n",
    "most_similar_movies = (similar_movies[1:]).squeeze().tolist()  # put here the max selected movies\n",
    "print(len(most_similar_movies))\n",
    "accepted_movies = []\n",
    "for movie in most_similar_movies:\n",
    "    if movie in movies_that_user_has_seen:\n",
    "        accepted_movies.append(movie)\n",
    "print(len(accepted_movies))\n",
    "\n",
    "accepted_movies = [ movie for movie in most_similar_movies if movie in movies_that_user_has_seen]\n",
    "print(len(accepted_movies))"
   ],
   "metadata": {
    "collapsed": false,
    "pycharm": {
     "name": "#%%\n",
     "is_executing": false
    }
   }
  },
  {
   "cell_type": "markdown",
   "source": [
    "Predicting the rate for that movie"
   ],
   "metadata": {
    "collapsed": false,
    "pycharm": {
     "name": "#%% md\n"
    }
   }
  },
  {
   "cell_type": "code",
   "execution_count": 88,
   "outputs": [
    {
     "name": "stdout",
     "text": [
      "1923\n",
      "1\n",
      "user rating of that movie is  -1.085315\n",
      "similarity of that movie with the target [0.09717981]\n"
     ],
     "output_type": "stream"
    }
   ],
   "source": [
    "print(accepted_movies[0])\n",
    "print(target_user_id)\n",
    "\n",
    "print(\"user rating of that movie is \", pivot_table[target_user_id-1, accepted_movies[0]])\n",
    "print(\"similarity of that movie with the target\", similarity_movies[accepted_movies[0]])"
   ],
   "metadata": {
    "collapsed": false,
    "pycharm": {
     "name": "#%%\n",
     "is_executing": false
    }
   }
  },
  {
   "cell_type": "code",
   "execution_count": 96,
   "outputs": [],
   "source": [
    "movie_rating = sum([pivot_table[target_user_id-1, movie]*similarity_movies[movie] for movie in accepted_movies]) \\\n",
    "               / sum([similarity_movies[movie] for movie in accepted_movies])\n"
   ],
   "metadata": {
    "collapsed": false,
    "pycharm": {
     "name": "#%%\n",
     "is_executing": false
    }
   }
  },
  {
   "cell_type": "code",
   "execution_count": 97,
   "outputs": [
    {
     "data": {
      "text/plain": "array([-179.80693675])"
     },
     "metadata": {},
     "output_type": "execute_result",
     "execution_count": 97
    }
   ],
   "source": [
    "movie_rating\n"
   ],
   "metadata": {
    "collapsed": false,
    "pycharm": {
     "name": "#%%\n",
     "is_executing": false
    }
   }
  },
  {
   "cell_type": "markdown",
   "source": [
    "## Sum Up"
   ],
   "metadata": {
    "collapsed": false,
    "pycharm": {
     "name": "#%% md\n"
    }
   }
  },
  {
   "cell_type": "code",
   "execution_count": 98,
   "outputs": [],
   "source": [
    "def predict_rating_for_movie(target_movie_id, movies_seen_by_target_user):\n",
    "    prediction_time = time.time()\n",
    "    similarity_movies = cosine_similarity(pivot_table.transpose(), pivot_table.getcol(target_movie_id).transpose())\n",
    "    similar_movies = (-similarity_movies).argsort(axis=0)\n",
    "    most_similar_movies = (similar_movies[1:]).squeeze().tolist()  # put here the max selected movies\n",
    "    accepted_movies = []\n",
    "    for movie in most_similar_movies:\n",
    "        if movie in movies_that_user_has_seen:\n",
    "            accepted_movies.append(movie)\n",
    "    print(len(accepted_movies))\n",
    "    accepted_movies = [ movie for movie in most_similar_movies if movie in movies_that_user_has_seen]\n",
    "    movie_rating = sum([pivot_table[target_user_id-1, movie]*similarity_movies[movie] for movie in accepted_movies]) \\\n",
    "               / sum([similarity_movies[movie] for movie in accepted_movies])\n",
    "    print(\"Prediction took took {:.3f}\".format(time.time()-prediction_time))\n",
    "    return movie_rating\n",
    "    "
   ],
   "metadata": {
    "collapsed": false,
    "pycharm": {
     "name": "#%%\n",
     "is_executing": false
    }
   }
  },
  {
   "cell_type": "code",
   "execution_count": 99,
   "outputs": [],
   "source": [
    "def item_based_prediction(target_user_id):\n",
    "    process_tm = time.time()\n",
    "    movies_seen_by_target_user = pivot_table.getrow(target_user_id -1).nonzero()[1].tolist()\n",
    "    movies_rate_predictions = []\n",
    "    for target_movie_id in range(len(movies_ids)):\n",
    "        if movie in movies_that_user_has_seen:\n",
    "            continue\n",
    "        movies_rate_predictions.append(\n",
    "            (target_movie_id, predict_rating_for_movie(target_movie_id, movies_seen_by_target_user))\n",
    "        )\n",
    "    movies_rate_predictions = sorted(movies_rate_predictions, key=lambda tup: tup[1])[:20]\n",
    "    predicted_movies = [movies_ids[movie_index] for movie_index, _ in movies_rate_predictions]\n",
    "    \n",
    "    print(\"Whole process took {:.3f}\".format(time.time()-process_tm))\n",
    "    print(\"Results: \", movies_rate_predictions)\n",
    "    print(\"Real Results: \", movies_rate_predictions)\n",
    "\n",
    "    return movies_rate_predictions"
   ],
   "metadata": {
    "collapsed": false,
    "pycharm": {
     "name": "#%%\n",
     "is_executing": false
    }
   }
  },
  {
   "cell_type": "code",
   "execution_count": 100,
   "outputs": [
    {
     "traceback": [
      "\u001b[0;31m---------------------------------------------------------------------------\u001b[0m",
      "\u001b[0;31mTypeError\u001b[0m                                 Traceback (most recent call last)",
      "\u001b[0;32m<ipython-input-100-2762d7cc1834>\u001b[0m in \u001b[0;36m<module>\u001b[0;34m\u001b[0m\n\u001b[1;32m      1\u001b[0m \u001b[0mtarget_user_id\u001b[0m \u001b[0;34m=\u001b[0m \u001b[0;36m1\u001b[0m\u001b[0;34m\u001b[0m\u001b[0;34m\u001b[0m\u001b[0m\n\u001b[0;32m----> 2\u001b[0;31m \u001b[0mitem_based_prediction\u001b[0m\u001b[0;34m(\u001b[0m\u001b[0mtarget_user_id\u001b[0m\u001b[0;34m)\u001b[0m\u001b[0;34m\u001b[0m\u001b[0;34m\u001b[0m\u001b[0m\n\u001b[0m\u001b[1;32m      3\u001b[0m \u001b[0;34m\u001b[0m\u001b[0m\n\u001b[1;32m      4\u001b[0m \u001b[0;34m\u001b[0m\u001b[0m\n",
      "\u001b[0;32m<ipython-input-99-0b0ed0df5197>\u001b[0m in \u001b[0;36mitem_based_prediction\u001b[0;34m(target_user_id)\u001b[0m\n\u001b[1;32m      3\u001b[0m     \u001b[0mmovies_seen_by_target_user\u001b[0m \u001b[0;34m=\u001b[0m \u001b[0mpivot_table\u001b[0m\u001b[0;34m.\u001b[0m\u001b[0mgetrow\u001b[0m\u001b[0;34m(\u001b[0m\u001b[0mtarget_user_id\u001b[0m \u001b[0;34m-\u001b[0m\u001b[0;36m1\u001b[0m\u001b[0;34m)\u001b[0m\u001b[0;34m.\u001b[0m\u001b[0mnonzero\u001b[0m\u001b[0;34m(\u001b[0m\u001b[0;34m)\u001b[0m\u001b[0;34m[\u001b[0m\u001b[0;36m1\u001b[0m\u001b[0;34m]\u001b[0m\u001b[0;34m.\u001b[0m\u001b[0mtolist\u001b[0m\u001b[0;34m(\u001b[0m\u001b[0;34m)\u001b[0m\u001b[0;34m\u001b[0m\u001b[0;34m\u001b[0m\u001b[0m\n\u001b[1;32m      4\u001b[0m     \u001b[0mmovies_rate_predictions\u001b[0m \u001b[0;34m=\u001b[0m \u001b[0;34m[\u001b[0m\u001b[0;34m]\u001b[0m\u001b[0;34m\u001b[0m\u001b[0;34m\u001b[0m\u001b[0m\n\u001b[0;32m----> 5\u001b[0;31m     \u001b[0;32mfor\u001b[0m \u001b[0mtarget_movie_id\u001b[0m \u001b[0;32min\u001b[0m \u001b[0mrange\u001b[0m\u001b[0;34m(\u001b[0m\u001b[0mmovies_ids\u001b[0m\u001b[0;34m)\u001b[0m\u001b[0;34m:\u001b[0m\u001b[0;34m\u001b[0m\u001b[0;34m\u001b[0m\u001b[0m\n\u001b[0m\u001b[1;32m      6\u001b[0m         \u001b[0;32mif\u001b[0m \u001b[0mmovie\u001b[0m \u001b[0;32min\u001b[0m \u001b[0mmovies_that_user_has_seen\u001b[0m\u001b[0;34m:\u001b[0m\u001b[0;34m\u001b[0m\u001b[0;34m\u001b[0m\u001b[0m\n\u001b[1;32m      7\u001b[0m             \u001b[0;32mcontinue\u001b[0m\u001b[0;34m\u001b[0m\u001b[0;34m\u001b[0m\u001b[0m\n",
      "\u001b[0;31mTypeError\u001b[0m: only integer scalar arrays can be converted to a scalar index"
     ],
     "ename": "TypeError",
     "evalue": "only integer scalar arrays can be converted to a scalar index",
     "output_type": "error"
    }
   ],
   "source": [
    "     \n",
    " target_user_id = 1\n",
    " item_based_prediction(target_user_id)\n",
    "\n"
   ],
   "metadata": {
    "collapsed": false,
    "pycharm": {
     "name": "#%%\n",
     "is_executing": false
    }
   }
  },
  {
   "cell_type": "code",
   "execution_count": null,
   "outputs": [],
   "source": [
    "\n"
   ],
   "metadata": {
    "collapsed": false,
    "pycharm": {
     "name": "#%%\n"
    }
   }
  }
 ],
 "metadata": {
  "kernelspec": {
   "display_name": "Python 3",
   "language": "python",
   "name": "python3"
  },
  "language_info": {
   "codemirror_mode": {
    "name": "ipython",
    "version": 2
   },
   "file_extension": ".py",
   "mimetype": "text/x-python",
   "name": "python",
   "nbconvert_exporter": "python",
   "pygments_lexer": "ipython2",
   "version": "2.7.6"
  },
  "pycharm": {
   "stem_cell": {
    "cell_type": "raw",
    "source": [],
    "metadata": {
     "collapsed": false
    }
   }
  }
 },
 "nbformat": 4,
 "nbformat_minor": 0
}