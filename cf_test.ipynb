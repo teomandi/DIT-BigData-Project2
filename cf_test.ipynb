{
 "cells": [
  {
   "cell_type": "code",
   "execution_count": 1,
   "metadata": {
    "collapsed": true,
    "pycharm": {
     "is_executing": false
    }
   },
   "outputs": [],
   "source": [
    "import pandas as pd\n",
    "import numpy as np\n",
    "import os\n",
    "import time\n",
    "from sklearn.metrics.pairwise import cosine_similarity\n",
    "from scipy.sparse import csr_matrix"
   ]
  },
  {
   "cell_type": "code",
   "execution_count": 2,
   "outputs": [],
   "source": [
    "import pickle\n",
    "\n",
    "def pickle_store(obj, filename):\n",
    "    with open(filename, 'wb') as file:\n",
    "        pickle.dump(obj, file)\n",
    "        \n",
    "def pickle_load(filename):\n",
    "    with open(filename, 'rb') as file:\n",
    "        return pickle.load(file)"
   ],
   "metadata": {
    "collapsed": false,
    "pycharm": {
     "name": "#%%\n",
     "is_executing": false
    }
   }
  },
  {
   "cell_type": "code",
   "execution_count": 3,
   "outputs": [],
   "source": [
    "movies_path = os.path.join(\"ml-25m\", \"movies.csv\")\n",
    "ratings_path = os.path.join(\"ml-25m\", \"ratings.csv\")\n",
    "\n",
    "user_mean_path = os.path.join(\"ml-25m\", \"user_mean.csv\")\n",
    "ratings_avg_path = os.path.join(\"ml-25m\", \"ratings_avg.csv\")\n",
    "ratings_avg2_path = os.path.join(\"ml-25m\", \"ratings_real_avg.csv\")\n",
    "\n",
    "final_path = os.path.join(\"ml-25m\", \"final.csv\")\n",
    "cosine_path = os.path.join(\"ml-25m\", \"cosine.csv\")\n",
    "\n",
    "pivot_table_path = os.path.join(\"ml-25m\", \"pivot_table.sparse\")"
   ],
   "metadata": {
    "collapsed": false,
    "pycharm": {
     "name": "#%%\n",
     "is_executing": false
    }
   }
  },
  {
   "cell_type": "code",
   "execution_count": 4,
   "outputs": [
    {
     "name": "stdout",
     "text": [
      "Took 8.565\n"
     ],
     "output_type": "stream"
    }
   ],
   "source": [
    "iteration = 0\n",
    "movies_ids = np.array([])\n",
    "users_ids = np.array([])\n",
    "headers_tm = time.time()\n",
    "for chunk in pd.read_csv(ratings_path, chunksize=100000):\n",
    "    movies_ids = np.append(movies_ids, chunk['movieId'].unique())\n",
    "    users_ids = np.append(users_ids, chunk['userId'].unique())\n",
    "    iteration += 1\n",
    "movies_ids = np.unique(movies_ids) \n",
    "users_ids = np.unique(users_ids) \n",
    "print(\"Took {:.3f}\".format(time.time()-headers_tm))"
   ],
   "metadata": {
    "collapsed": false,
    "pycharm": {
     "name": "#%%\n",
     "is_executing": false
    }
   }
  },
  {
   "cell_type": "code",
   "execution_count": 34,
   "outputs": [
    {
     "name": "stdout",
     "text": [
      "iterations:  2501\n",
      "dif movies are:  (59047,)\n",
      "dif users are:  (162541,)\n"
     ],
     "output_type": "stream"
    }
   ],
   "source": [
    "print(\"iterations: \", iteration)\n",
    "print(\"dif movies are: \", movies_ids.shape)\n",
    "print(\"dif users are: \", users_ids.shape)"
   ],
   "metadata": {
    "collapsed": false,
    "pycharm": {
     "name": "#%%\n",
     "is_executing": false
    }
   }
  },
  {
   "cell_type": "code",
   "execution_count": 6,
   "outputs": [
    {
     "name": "stderr",
     "text": [
      "/home/teomandi/anaconda3/envs/project1/lib/python3.7/site-packages/scipy/sparse/_index.py:126: SparseEfficiencyWarning: Changing the sparsity structure of a csr_matrix is expensive. lil_matrix is more efficient.\n",
      "  self._set_arrayXarray(i, j, x)\n"
     ],
     "output_type": "stream"
    },
    {
     "name": "stdout",
     "text": [
      "Took 918.479\n"
     ],
     "output_type": "stream"
    }
   ],
   "source": [
    "starting_tm = time.time()\n",
    "pivot_table = csr_matrix((len(users_ids), len(movies_ids)))\n",
    "for chunk in pd.read_csv(ratings_path, chunksize=100000):\n",
    "    loop_tm = time.time()\n",
    "    rows = [i-1 for i in chunk['userId'].tolist()]\n",
    "    cols = [np.where(movies_ids == j)[0][0] for j in chunk['movieId']]\n",
    "    vals = chunk['rating'].tolist()\n",
    "    pivot_table[rows, cols] = vals\n",
    "    # print(\"Took {:.3f}\".format(time.time()-loop_tm))\n",
    "print(\"Took {:.3f}\".format(time.time()-starting_tm))"
   ],
   "metadata": {
    "collapsed": false,
    "pycharm": {
     "name": "#%%\n",
     "is_executing": false
    }
   }
  },
  {
   "cell_type": "code",
   "execution_count": 5,
   "outputs": [
    {
     "name": "stdout",
     "text": [
      "PivoTable was stored\n"
     ],
     "output_type": "stream"
    }
   ],
   "source": [
    "#pickle_store(pivot_table, pivot_table_path)\n",
    "pivot_table = pickle_load(pivot_table_path)\n",
    "print(\"PivoTable was stored\")"
   ],
   "metadata": {
    "collapsed": false,
    "pycharm": {
     "name": "#%%\n",
     "is_executing": false
    }
   }
  },
  {
   "cell_type": "code",
   "execution_count": null,
   "outputs": [],
   "source": [],
   "metadata": {
    "collapsed": false,
    "pycharm": {
     "name": "#%%\n"
    }
   }
  },
  {
   "cell_type": "code",
   "execution_count": 14,
   "outputs": [
    {
     "name": "stdout",
     "text": [
      "Took 0.000\n"
     ],
     "output_type": "stream"
    }
   ],
   "source": [
    "similarity_tm = time.time()\n",
    "# similarity_matrix = cosine_similarity(pivot_table) ## BRUTAL\n",
    "print(\"Took {:.3f}\".format(time.time()-similarity_tm))"
   ],
   "metadata": {
    "collapsed": false,
    "pycharm": {
     "name": "#%%\n",
     "is_executing": false
    }
   }
  },
  {
   "cell_type": "code",
   "execution_count": 7,
   "outputs": [
    {
     "data": {
      "text/plain": "array([[143635],\n       [154450],\n       [154453],\n       [ 14980],\n       [ 14977]])"
     },
     "metadata": {},
     "output_type": "execute_result",
     "execution_count": 7
    }
   ],
   "source": [
    "order = np.argsort(user_similarities, axis=0)\n",
    "order[:5]"
   ],
   "metadata": {
    "collapsed": false,
    "pycharm": {
     "name": "#%%\n",
     "is_executing": false
    }
   }
  },
  {
   "cell_type": "code",
   "execution_count": 7,
   "outputs": [],
   "source": [],
   "metadata": {
    "collapsed": false,
    "pycharm": {
     "name": "#%%\n",
     "is_executing": false
    }
   }
  },
  {
   "cell_type": "markdown",
   "source": [
    "---\n",
    "\n",
    "## Getting Predictions"
   ],
   "metadata": {
    "collapsed": false,
    "pycharm": {
     "name": "#%% md\n"
    }
   }
  },
  {
   "cell_type": "code",
   "execution_count": 12,
   "outputs": [],
   "source": [
    "Rating_avg = pd.read_csv(ratings_path)\n",
    "Rating_avg = Rating_avg.astype({\"movieId\": str})\n",
    "Movie_user = Rating_avg.groupby(by = 'userId')['movieId'].apply(lambda x:','.join(x))"
   ],
   "metadata": {
    "collapsed": false,
    "pycharm": {
     "name": "#%%\n",
     "is_executing": false
    }
   }
  },
  {
   "cell_type": "markdown",
   "source": [
    "### Get target and similar users"
   ],
   "metadata": {
    "collapsed": false,
    "pycharm": {
     "name": "#%% md\n",
     "is_executing": false
    }
   }
  },
  {
   "cell_type": "code",
   "execution_count": null,
   "outputs": [],
   "source": [
    "target_user_id =  1\n",
    "\n",
    "similarity_tm = time.time()\n",
    "user_similarities = cosine_similarity(pivot_table, pivot_table.getrow(target_user_id-1))\n",
    "print(\"Took {:.3f}\".format(time.time()-similarity_tm))\n",
    "print(user_similarities.shape)\n",
    "user_similarities"
   ],
   "metadata": {
    "collapsed": false,
    "pycharm": {
     "name": "#%%\n"
    }
   }
  },
  {
   "cell_type": "code",
   "execution_count": 40,
   "outputs": [],
   "source": [
    "similar_users = (-user_similarities).argsort(axis=0)\n",
    "most_similar_users = (similar_users[1:11]).squeeze().tolist()  # the first is itself"
   ],
   "metadata": {
    "collapsed": false,
    "pycharm": {
     "name": "#%%\n",
     "is_executing": false
    }
   }
  },
  {
   "cell_type": "markdown",
   "source": [
    "### Get the movies which similar users has seen\n",
    "    "
   ],
   "metadata": {
    "collapsed": false,
    "pycharm": {
     "name": "#%% md\n"
    }
   }
  },
  {
   "cell_type": "code",
   "execution_count": 52,
   "outputs": [
    {
     "name": "stdout",
     "text": [
      "732\n"
     ],
     "output_type": "stream"
    }
   ],
   "source": [
    "movies_seen_by_similar_users = []\n",
    "for user in most_similar_users:\n",
    "    movies_seen_by_similar_users.extend(pivot_table.getrow(user).nonzero()[1])\n",
    "movies_seen_by_similar_users = set(movies_seen_by_similar_users)\n",
    "print(len(movies_seen_by_similar_users))"
   ],
   "metadata": {
    "collapsed": false,
    "pycharm": {
     "name": "#%%\n",
     "is_executing": false
    }
   }
  },
  {
   "cell_type": "code",
   "execution_count": 53,
   "outputs": [
    {
     "name": "stdout",
     "text": [
      "70\n"
     ],
     "output_type": "stream"
    }
   ],
   "source": [
    "movies_seen_by_target_user = pivot_table.getrow(target_user_id-1).nonzero()[1]\n",
    "print(len(movies_seen_by_target_user))"
   ],
   "metadata": {
    "collapsed": false,
    "pycharm": {
     "name": "#%% \n",
     "is_executing": false
    }
   }
  },
  {
   "cell_type": "code",
   "execution_count": 54,
   "outputs": [
    {
     "name": "stdout",
     "text": [
      "717\n"
     ],
     "output_type": "stream"
    }
   ],
   "source": [
    "movies_under_consideration = list(set(movies_seen_by_similar_users) - set(movies_seen_by_target_user))\n",
    "print(len(movies_under_consideration))"
   ],
   "metadata": {
    "collapsed": false,
    "pycharm": {
     "name": "#%%\n",
     "is_executing": false
    }
   }
  },
  {
   "cell_type": "code",
   "execution_count": 61,
   "outputs": [],
   "source": [
    "movie_avg_ratings = []\n",
    "for movie in movies_under_consideration:\n",
    "    movie_ratings = pivot_table[most_similar_users, movie].toarray().squeeze().tolist()\n",
    "    movie_avg_ratings.append(sum(movie_ratings)/len(movie_ratings))"
   ],
   "metadata": {
    "collapsed": false,
    "pycharm": {
     "name": "#%%\n",
     "is_executing": false
    }
   }
  },
  {
   "cell_type": "code",
   "execution_count": 62,
   "outputs": [
    {
     "name": "stdout",
     "text": [
      "[138, 598, 170, 104]\n"
     ],
     "output_type": "stream"
    }
   ],
   "source": [
    "best_movies_indexes = np.array(movie_avg_ratings).argsort()[:4].tolist()\n",
    "predictions = [int(movies_ids[idx]) for idx in best_movies_indexes]\n",
    "print(predictions)\n"
   ],
   "metadata": {
    "collapsed": false,
    "pycharm": {
     "name": "#%%\n",
     "is_executing": false
    }
   }
  },
  {
   "cell_type": "code",
   "execution_count": null,
   "outputs": [],
   "source": [
    "\n",
    "\n"
   ],
   "metadata": {
    "collapsed": false,
    "pycharm": {
     "name": "#%%\n"
    }
   }
  }
 ],
 "metadata": {
  "kernelspec": {
   "display_name": "Python 3",
   "language": "python",
   "name": "python3"
  },
  "language_info": {
   "codemirror_mode": {
    "name": "ipython",
    "version": 2
   },
   "file_extension": ".py",
   "mimetype": "text/x-python",
   "name": "python",
   "nbconvert_exporter": "python",
   "pygments_lexer": "ipython2",
   "version": "2.7.6"
  },
  "pycharm": {
   "stem_cell": {
    "cell_type": "raw",
    "source": [],
    "metadata": {
     "collapsed": false
    }
   }
  }
 },
 "nbformat": 4,
 "nbformat_minor": 0
}