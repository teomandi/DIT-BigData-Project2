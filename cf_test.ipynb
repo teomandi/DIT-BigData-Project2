{
 "cells": [
  {
   "cell_type": "code",
   "execution_count": 1,
   "metadata": {
    "collapsed": true,
    "pycharm": {
     "is_executing": false
    }
   },
   "outputs": [],
   "source": [
    "import pandas as pd\n",
    "import numpy as np\n",
    "import os\n",
    "import time\n",
    "from sklearn.metrics.pairwise import cosine_similarity\n",
    "from scipy.sparse import csr_matrix"
   ]
  },
  {
   "cell_type": "code",
   "execution_count": 2,
   "outputs": [],
   "source": [
    "import pickle\n",
    "\n",
    "def pickle_store(obj, filename):\n",
    "    with open(filename, 'wb') as file:\n",
    "        pickle.dump(obj, file)\n",
    "        \n",
    "def pickle_load(filename):\n",
    "    with open(filename, 'rb') as file:\n",
    "        return pickle.load(file)"
   ],
   "metadata": {
    "collapsed": false,
    "pycharm": {
     "name": "#%%\n",
     "is_executing": false
    }
   }
  },
  {
   "cell_type": "code",
   "execution_count": 3,
   "outputs": [],
   "source": [
    "movies_path = os.path.join(\"ml-25m\", \"movies.csv\")\n",
    "ratings_path = os.path.join(\"ml-25m\", \"ratings.csv\")\n",
    "\n",
    "user_mean_path = os.path.join(\"ml-25m\", \"user_mean.csv\")\n",
    "ratings_avg_path = os.path.join(\"ml-25m\", \"ratings_avg.csv\")\n",
    "ratings_avg2_path = os.path.join(\"ml-25m\", \"ratings_real_avg.csv\")\n",
    "\n",
    "final_path = os.path.join(\"ml-25m\", \"final.csv\")\n",
    "cosine_path = os.path.join(\"ml-25m\", \"cosine.csv\")\n",
    "\n",
    "pivot_table_path = os.path.join(\"ml-25m\", \"pivot_table.sparse\")\n",
    "fixed_pivot_table_path = os.path.join(\"ml-25m\", \"fixed_pivot_table.sparse\")"
   ],
   "metadata": {
    "collapsed": false,
    "pycharm": {
     "name": "#%%\n",
     "is_executing": false
    }
   }
  },
  {
   "cell_type": "markdown",
   "source": [
    "Collecting movies and users IDs"
   ],
   "metadata": {
    "collapsed": false,
    "pycharm": {
     "name": "#%% md\n",
     "is_executing": false
    }
   }
  },
  {
   "cell_type": "code",
   "execution_count": 4,
   "outputs": [
    {
     "name": "stdout",
     "text": [
      "Took 7.079\n"
     ],
     "output_type": "stream"
    }
   ],
   "source": [
    "iteration = 0\n",
    "movies_ids = np.array([])\n",
    "users_ids = np.array([])\n",
    "headers_tm = time.time()\n",
    "for chunk in pd.read_csv(ratings_path, chunksize=100000):\n",
    "    movies_ids = np.append(movies_ids, chunk['movieId'].unique())\n",
    "    users_ids = np.append(users_ids, chunk['userId'].unique())\n",
    "    iteration += 1\n",
    "movies_ids = np.unique(movies_ids) \n",
    "users_ids = np.unique(users_ids) \n",
    "print(\"Took {:.3f}\".format(time.time()-headers_tm))"
   ],
   "metadata": {
    "collapsed": false,
    "pycharm": {
     "name": "#%%\n",
     "is_executing": false
    }
   }
  },
  {
   "cell_type": "code",
   "execution_count": 8,
   "outputs": [
    {
     "name": "stdout",
     "text": [
      "iterations:  251\n",
      "dif movies are:  (59047,)\n",
      "dif users are:  (162541,)\n"
     ],
     "output_type": "stream"
    }
   ],
   "source": [
    "print(\"iterations: \", iteration)\n",
    "print(\"dif movies are: \", movies_ids.shape)\n",
    "print(\"dif users are: \", users_ids.shape)"
   ],
   "metadata": {
    "collapsed": false,
    "pycharm": {
     "name": "#%%\n",
     "is_executing": false
    }
   }
  },
  {
   "cell_type": "markdown",
   "source": [
    "## Creating PivotTable\n",
    "---"
   ],
   "metadata": {
    "collapsed": false,
    "pycharm": {
     "name": "#%% md\n",
     "is_executing": false
    }
   }
  },
  {
   "cell_type": "code",
   "execution_count": null,
   "outputs": [],
   "source": [
    "starting_tm = time.time()\n",
    "pivot_table = csr_matrix((len(users_ids), len(movies_ids)))\n",
    "for chunk in pd.read_csv(ratings_path, chunksize=100000):\n",
    "    loop_tm = time.time()\n",
    "    rows = [i-1 for i in chunk['userId'].tolist()]\n",
    "    cols = [np.where(movies_ids == j)[0][0] for j in chunk['movieId']]\n",
    "    ratings = chunk['rating'].tolist()\n",
    "    avg_ratings = sum(ratings)/len(ratings)\n",
    "    fixed_ratings = [rate - avg_ratings for rate in ratings]\n",
    "    vals = fixed_ratings\n",
    "    pivot_table[rows, cols] = vals\n",
    "    print(\"Took {:.3f}\".format(time.time()-loop_tm))\n",
    "print(\"Took {:.3f}\".format(time.time()-starting_tm))"
   ],
   "metadata": {
    "collapsed": false,
    "pycharm": {
     "name": "#%%\n"
    }
   }
  },
  {
   "cell_type": "code",
   "execution_count": 5,
   "outputs": [
    {
     "name": "stdout",
     "text": [
      "PivoTable was stored\n"
     ],
     "output_type": "stream"
    }
   ],
   "source": [
    "#pickle_store(pivot_table, pivot_table_path)\n",
    "pivot_table = pickle_load(pivot_table_path)\n",
    "print(\"PivoTable was stored\")"
   ],
   "metadata": {
    "collapsed": false,
    "pycharm": {
     "name": "#%%\n",
     "is_executing": false
    }
   }
  },
  {
   "cell_type": "markdown",
   "source": [
    "# USER-Based\n",
    "\n",
    "---\n",
    "\n",
    "## Getting Predictions"
   ],
   "metadata": {
    "collapsed": false,
    "pycharm": {
     "name": "#%% md\n"
    }
   }
  },
  {
   "cell_type": "code",
   "execution_count": 12,
   "outputs": [],
   "source": [
    "Rating_avg = pd.read_csv(ratings_path)\n",
    "Rating_avg = Rating_avg.astype({\"movieId\": str})\n",
    "Movie_user = Rating_avg.groupby(by = 'userId')['movieId'].apply(lambda x:','.join(x))"
   ],
   "metadata": {
    "collapsed": false,
    "pycharm": {
     "name": "#%%\n",
     "is_executing": false
    }
   }
  },
  {
   "cell_type": "markdown",
   "source": [
    "### Get target and similar users"
   ],
   "metadata": {
    "collapsed": false,
    "pycharm": {
     "name": "#%% md\n",
     "is_executing": false
    }
   }
  },
  {
   "cell_type": "code",
   "execution_count": 56,
   "outputs": [
    {
     "name": "stdout",
     "text": [
      "(162541, 59047) -- (1, 59047)\n"
     ],
     "output_type": "stream"
    }
   ],
   "source": [
    "target_user_id =  1\n",
    "print(pivot_table.shape, \"--\", pivot_table.getrow(target_user_id-1).shape)"
   ],
   "metadata": {
    "collapsed": false,
    "pycharm": {
     "name": "#%%\n",
     "is_executing": false
    }
   }
  },
  {
   "cell_type": "code",
   "execution_count": null,
   "outputs": [],
   "source": [
    "similarity_tm = time.time()\n",
    "user_similarities = cosine_similarity(pivot_table, pivot_table.getrow(target_user_id-1))\n",
    "print(\"Took {:.3f}\".format(time.time()-similarity_tm))\n",
    "print(user_similarities.shape)\n",
    "user_similarities"
   ],
   "metadata": {
    "collapsed": false,
    "pycharm": {
     "name": "#%%\n"
    }
   }
  },
  {
   "cell_type": "code",
   "execution_count": 15,
   "outputs": [],
   "source": [
    "similar_users = (-user_similarities).argsort(axis=0)\n",
    "most_similar_users = (similar_users[1:11]).squeeze().tolist()  # the first is itself"
   ],
   "metadata": {
    "collapsed": false,
    "pycharm": {
     "name": "#%%\n",
     "is_executing": false
    }
   }
  },
  {
   "cell_type": "markdown",
   "source": [
    "### Get the movies which similar users has seen\n",
    "    "
   ],
   "metadata": {
    "collapsed": false,
    "pycharm": {
     "name": "#%% md\n"
    }
   }
  },
  {
   "cell_type": "code",
   "execution_count": 16,
   "outputs": [
    {
     "name": "stdout",
     "text": [
      "217\n"
     ],
     "output_type": "stream"
    }
   ],
   "source": [
    "movies_seen_by_similar_users = []\n",
    "for user in most_similar_users:\n",
    "    movies_seen_by_similar_users.extend(pivot_table.getrow(user).nonzero()[1])\n",
    "movies_seen_by_similar_users = set(movies_seen_by_similar_users)\n",
    "print(len(movies_seen_by_similar_users))"
   ],
   "metadata": {
    "collapsed": false,
    "pycharm": {
     "name": "#%%\n",
     "is_executing": false
    }
   }
  },
  {
   "cell_type": "code",
   "execution_count": 17,
   "outputs": [
    {
     "name": "stdout",
     "text": [
      "70\n"
     ],
     "output_type": "stream"
    }
   ],
   "source": [
    "movies_seen_by_target_user = pivot_table.getrow(target_user_id-1).nonzero()[1]\n",
    "print(len(movies_seen_by_target_user))"
   ],
   "metadata": {
    "collapsed": false,
    "pycharm": {
     "name": "#%% \n",
     "is_executing": false
    }
   }
  },
  {
   "cell_type": "code",
   "execution_count": 18,
   "outputs": [
    {
     "name": "stdout",
     "text": [
      "196\n"
     ],
     "output_type": "stream"
    }
   ],
   "source": [
    "movies_under_consideration = list(set(movies_seen_by_similar_users) - set(movies_seen_by_target_user))\n",
    "print(len(movies_under_consideration))"
   ],
   "metadata": {
    "collapsed": false,
    "pycharm": {
     "name": "#%%\n",
     "is_executing": false
    }
   }
  },
  {
   "cell_type": "code",
   "execution_count": 37,
   "outputs": [],
   "source": [
    "movie_avg_ratings = []\n",
    "for movie in movies_under_consideration:\n",
    "    movie_ratings = pivot_table[most_similar_users, movie].toarray().squeeze().tolist()\n",
    "    # movie_avg_ratings.append(sum(movie_ratings)/len(movie_ratings))\n",
    "    movie_avg_ratings.append(sum([r*user_similarities[sid][0] for r,sid in zip(movie_ratings, most_similar_users)])/sum([user_similarities[sid][0] for sid in most_similar_users]))"
   ],
   "metadata": {
    "collapsed": false,
    "pycharm": {
     "name": "#%%\n",
     "is_executing": false
    }
   }
  },
  {
   "cell_type": "code",
   "execution_count": 38,
   "outputs": [
    {
     "name": "stdout",
     "text": [
      "[180, 90, 164, 28]\n"
     ],
     "output_type": "stream"
    }
   ],
   "source": [
    "best_movies_indexes = np.array(movie_avg_ratings).argsort()[:4].tolist()\n",
    "predictions = [int(movies_ids[idx]) for idx in best_movies_indexes]\n",
    "print(predictions)"
   ],
   "metadata": {
    "collapsed": false,
    "pycharm": {
     "name": "#%%\n",
     "is_executing": false
    }
   }
  },
  {
   "cell_type": "markdown",
   "source": [
    "# ITEM-Based\n",
    "---"
   ],
   "metadata": {
    "collapsed": false,
    "pycharm": {
     "name": "#%% md\n"
    }
   }
  },
  {
   "cell_type": "code",
   "execution_count": 43,
   "outputs": [
    {
     "data": {
      "text/plain": "(1, 59047)"
     },
     "metadata": {},
     "output_type": "execute_result",
     "execution_count": 43
    }
   ],
   "source": [
    "target_user_id2 =  1"
   ],
   "metadata": {
    "collapsed": false,
    "pycharm": {
     "name": "#%%\n",
     "is_executing": false
    }
   }
  },
  {
   "cell_type": "markdown",
   "source": [
    "Movies that target user has not seen"
   ],
   "metadata": {
    "collapsed": false,
    "pycharm": {
     "name": "#%% md\n"
    }
   }
  },
  {
   "cell_type": "code",
   "execution_count": 49,
   "outputs": [],
   "source": [
    "target_ratings2 = pivot_table.getrow(target_user_id -1)\n",
    "movies_that_user_has_seen2 = pivot_table.getrow(target_user_id2 -1).nonzero()[1].tolist()"
   ],
   "metadata": {
    "collapsed": false,
    "pycharm": {
     "name": "#%%\n",
     "is_executing": false
    }
   }
  },
  {
   "cell_type": "code",
   "execution_count": 68,
   "outputs": [
    {
     "name": "stdout",
     "text": [
      "(59047, 162541)\n",
      "(1, 162541)\n"
     ],
     "output_type": "stream"
    }
   ],
   "source": [
    "target_movie_id2 = 2  # example: predict rating for that movie\n",
    "print(pivot_table.transpose().shape)\n",
    "print(pivot_table.getcol(target_movie_id2).transpose().shape)"
   ],
   "metadata": {
    "collapsed": false,
    "pycharm": {
     "name": "#%%\n",
     "is_executing": false
    }
   }
  },
  {
   "cell_type": "code",
   "execution_count": 69,
   "outputs": [],
   "source": [
    "similarity_movies2 = cosine_similarity(pivot_table.transpose(), pivot_table.getcol(target_movie_id2).transpose())\n"
   ],
   "metadata": {
    "collapsed": false,
    "pycharm": {
     "name": "#%%\n",
     "is_executing": false
    }
   }
  },
  {
   "cell_type": "markdown",
   "source": [
    "Top 20 similar movies that have been rated by target user"
   ],
   "metadata": {
    "collapsed": false,
    "pycharm": {
     "name": "#%% md\n",
     "is_executing": false
    }
   }
  },
  {
   "cell_type": "code",
   "execution_count": 83,
   "outputs": [
    {
     "name": "stdout",
     "text": [
      "59046\n",
      "70\n",
      "70\n"
     ],
     "output_type": "stream"
    }
   ],
   "source": [
    "similar_movies2 = (-similarity_movies2).argsort(axis=0)\n",
    "most_similar_movies2 = (similar_movies2[1:]).squeeze().tolist()  # put here the max selected movies\n",
    "print(len(most_similar_movies2))\n",
    "accepted_movies2 = []\n",
    "for movie in most_similar_movies2:\n",
    "    if movie in movies_that_user_has_seen2:\n",
    "        accepted_movies2.append(movie)\n",
    "print(len(accepted_movies2))\n",
    "\n",
    "accepted_movies2 = [ movie for movie in most_similar_movies2 if movie in movies_that_user_has_seen2]\n",
    "print(len(accepted_movies2))"
   ],
   "metadata": {
    "collapsed": false,
    "pycharm": {
     "name": "#%%\n",
     "is_executing": false
    }
   }
  },
  {
   "cell_type": "markdown",
   "source": [
    "Predicting the rate for that movie"
   ],
   "metadata": {
    "collapsed": false,
    "pycharm": {
     "name": "#%% md\n"
    }
   }
  },
  {
   "cell_type": "code",
   "execution_count": 88,
   "outputs": [
    {
     "name": "stdout",
     "text": [
      "1923\n",
      "1\n",
      "user rating of that movie is  -1.085315\n",
      "similarity of that movie with the target [0.09717981]\n"
     ],
     "output_type": "stream"
    }
   ],
   "source": [
    "print(accepted_movies2[0])\n",
    "print(target_user_id2)\n",
    "\n",
    "print(\"user rating of that movie is \", pivot_table[target_user_id-1, accepted_movies2[0]])\n",
    "print(\"similarity of that movie with the target\", similarity_movies2[accepted_movies2[0]])"
   ],
   "metadata": {
    "collapsed": false,
    "pycharm": {
     "name": "#%%\n",
     "is_executing": false
    }
   }
  },
  {
   "cell_type": "code",
   "execution_count": 96,
   "outputs": [],
   "source": [
    "movie_rating2 = sum([pivot_table[target_user_id-1, movie]*similarity_movies2[movie] for movie in accepted_movies2]) \\\n",
    "               / sum([similarity_movies2[movie] for movie in accepted_movies2])\n"
   ],
   "metadata": {
    "collapsed": false,
    "pycharm": {
     "name": "#%%\n",
     "is_executing": false
    }
   }
  },
  {
   "cell_type": "code",
   "execution_count": 97,
   "outputs": [
    {
     "data": {
      "text/plain": "array([-179.80693675])"
     },
     "metadata": {},
     "output_type": "execute_result",
     "execution_count": 97
    }
   ],
   "source": [
    "movie_rating2\n"
   ],
   "metadata": {
    "collapsed": false,
    "pycharm": {
     "name": "#%%\n",
     "is_executing": false
    }
   }
  },
  {
   "cell_type": "markdown",
   "source": [
    "## Sum Up\n",
    "\n",
    "---"
   ],
   "metadata": {
    "collapsed": false,
    "pycharm": {
     "name": "#%% md\n"
    }
   }
  },
  {
   "cell_type": "code",
   "execution_count": 17,
   "outputs": [],
   "source": [
    "def predict_rating_for_movie(target_movie_id, movies_seen_by_target_user):\n",
    "    prediction_time = time.time()\n",
    "    similarity_movies = cosine_similarity(pivot_table.transpose(), pivot_table.getcol(target_movie_id).transpose())\n",
    "    similar_movies = (-similarity_movies).argsort(axis=0)\n",
    "    most_similar_movies = (similar_movies[1:]).squeeze().tolist()  # put here the max selected movies\n",
    "    accepted_movies = [ movie for movie in most_similar_movies if movie in movies_seen_by_target_user]\n",
    "    movie_rating = sum([pivot_table[target_user_id-1, movie]*similarity_movies[movie] for movie in accepted_movies]) \\\n",
    "               / sum([similarity_movies[movie] for movie in accepted_movies])\n",
    "    # print(\"Prediction took took {:.3f}\".format(time.time()-prediction_time))\n",
    "    # print(len(accepted_movies))\n",
    "    return movie_rating[0]\n",
    "    "
   ],
   "metadata": {
    "collapsed": false,
    "pycharm": {
     "name": "#%%\n",
     "is_executing": false
    }
   }
  },
  {
   "cell_type": "code",
   "execution_count": 19,
   "outputs": [],
   "source": [
    "# def item_based_prediction(target_user_id):\n",
    "#     print(\"Item prediction started!!\")\n",
    "#     process_tm = time.time()\n",
    "#     movies_seen_by_target_user = pivot_table.getrow(target_user_id -1).nonzero()[1].tolist()\n",
    "#     movies_rate_predictions = []\n",
    "#     for target_movie_id, i in enumerate(range(len(movies_ids[:100]))):\n",
    "#         if target_movie_id in movies_seen_by_target_user:\n",
    "#             continue\n",
    "#         movies_rate_predictions.append(\n",
    "#             (target_movie_id, predict_rating_for_movie(target_movie_id, movies_seen_by_target_user))\n",
    "#         )\n",
    "#         # break\n",
    "#         if i/2%10 == 0:\n",
    "#             print(\"processing at: \",i,\"% \")\n",
    "#     movies_rate_predictions = sorted(movies_rate_predictions,reverse=True, key=lambda tup: tup[1])[:20]  ## einai apo mikro pros megalo\n",
    "#     predicted_movies = [movies_ids[movie_index] for movie_index, _ in movies_rate_predictions]\n",
    "# \n",
    "#     print(\"Whole process took {:.3f}\".format(time.time()-process_tm))\n",
    "#     print(\"Results: \", movies_rate_predictions)\n",
    "#     print(\"Real Results: \", predicted_movies)\n",
    "#     return movies_rate_predictions\n",
    "\n",
    "def item_based_prediction(target_user_id):\n",
    "    print(\"Item prediction started!!\")\n",
    "    process_tm = time.time()\n",
    "    movies_seen_by_target_user = pivot_table.getrow(target_user_id -1).nonzero()[1].tolist()\n",
    "    movies_seen_by_target_user.sort(key=lambda x: pivot_table[target_user_id -1, x], reverse=True)\n",
    "    movies_rate_predictions = []\n",
    "    already_checked_movies = []\n",
    "    k=0\n",
    "    stop = False\n",
    "    while not stop:\n",
    "        print(\"starting \", len(movies_seen_by_target_user))\n",
    "        for movie_id in movies_seen_by_target_user:\n",
    "            similarity_movies = cosine_similarity(pivot_table.transpose(), pivot_table.getcol(movie_id).transpose())\n",
    "            most_similar_movie_id = (-similarity_movies).argsort(axis=0)[k][0]\n",
    "            if most_similar_movie_id in already_checked_movies or most_similar_movie_id in movies_seen_by_target_user:\n",
    "                continue\n",
    "            movies_rate_predictions.append(\n",
    "                (most_similar_movie_id, predict_rating_for_movie(most_similar_movie_id, movies_seen_by_target_user))\n",
    "            )\n",
    "            if len(movies_rate_predictions) == 30:\n",
    "                stop = True\n",
    "                break\n",
    "        k += 1    \n",
    "    movies_rate_predictions = sorted(movies_rate_predictions,reverse=True, key=lambda tup: tup[1])[:20]  ## einai apo mikro pros megalo\n",
    "    predicted_movies = [movies_ids[movie_index] for movie_index, _ in movies_rate_predictions]\n",
    "    \n",
    "    print(\"Whole process took {:.3f}\".format(time.time()-process_tm))\n",
    "    print(\"Results: \", movies_rate_predictions)\n",
    "    print(\"Real Results: \", predicted_movies)\n",
    "    # return movies_rate_predictions"
   ],
   "metadata": {
    "collapsed": false,
    "pycharm": {
     "name": "#%%\n",
     "is_executing": false
    }
   }
  },
  {
   "cell_type": "code",
   "execution_count": 20,
   "outputs": [
    {
     "name": "stdout",
     "text": [
      "Item prediction started!!\n",
      "starting  184\n",
      "starting  184\n",
      "Whole process took 218.111\n",
      "Results:  [(12216, 0.7517878753699102), (2867, 0.7259864364683587), (5883, 0.4982818148323797), (6258, 0.46938209597074304), (1207, 0.4576075376739843), (1194, 0.42864570209536246), (5877, 0.41911245188673873), (5877, 0.41911245188673873), (933, 0.3919466621246719), (2636, 0.3682344116397693), (7022, 0.3288935035843121), (8102, 0.2545896210390017), (10834, 0.25213114130225994), (510, 0.20787551243349503), (1263, 0.16363469677740655), (159, 0.1576216286188244), (1579, 0.09084247120488896), (5336, 0.06966177204339695), (764, -0.005950814621861656), (4518, -0.04983421687639545)]\n",
      "Real Results:  [58559.0, 2959.0, 5995.0, 6377.0, 1240.0, 1225.0, 5989.0, 5989.0, 954.0, 2728.0, 7147.0, 8817.0, 45722.0, 515.0, 1297.0, 161.0, 1641.0, 5444.0, 780.0, 4623.0]\n"
     ],
     "output_type": "stream"
    }
   ],
   "source": [
    "pivot_table = pickle_load(fixed_pivot_table_path)\n",
    "target_user_id = 2\n",
    "item_based_prediction(target_user_id)\n",
    "\n"
   ],
   "metadata": {
    "collapsed": false,
    "pycharm": {
     "name": "#%%\n",
     "is_executing": false
    }
   }
  },
  {
   "cell_type": "markdown",
   "source": [
    "Get the top 50 favourite movies of the user"
   ],
   "metadata": {
    "collapsed": false,
    "pycharm": {
     "name": "#%% md\n"
    }
   }
  },
  {
   "cell_type": "code",
   "execution_count": 6,
   "outputs": [],
   "source": [
    "movies_seen_by_target_user = pivot_table.getrow(target_user_id -1).nonzero()[1].tolist()"
   ],
   "metadata": {
    "collapsed": false,
    "pycharm": {
     "name": "#%%\n",
     "is_executing": false
    }
   }
  },
  {
   "cell_type": "code",
   "execution_count": 7,
   "outputs": [],
   "source": [
    "movies_seen_by_target_user.sort(key=lambda x: pivot_table[target_user_id -1, x], reverse=True)\n"
   ],
   "metadata": {
    "collapsed": false,
    "pycharm": {
     "name": "#%%\n",
     "is_executing": false
    }
   }
  },
  {
   "cell_type": "code",
   "execution_count": 14,
   "outputs": [
    {
     "name": "stdout",
     "text": [
      "starting\n",
      "1\n",
      "2\n",
      "3\n",
      "4\n",
      "5\n",
      "6\n",
      "7\n",
      "8\n",
      "9\n",
      "10\n",
      "k is incresingggg\n"
     ],
     "output_type": "stream"
    }
   ],
   "source": [
    "most_likely_to_like = []\n",
    "k2=0\n",
    "stop = False\n",
    "while not stop:\n",
    "    print(\"starting\")\n",
    "    for movie_id2 in movies_seen_by_target_user:\n",
    "        similarity_movies2 = cosine_similarity(pivot_table.transpose(), pivot_table.getcol(movie_id2).transpose())\n",
    "        most_similar_movie2= (-similarity_movies2).argsort(axis=0)[k2][0]\n",
    "        most_likely_to_like.append(most_similar_movie2)\n",
    "        print(len(most_likely_to_like))\n",
    "        if len(most_likely_to_like) == 10:\n",
    "            stop = True\n",
    "            break\n",
    "    print(\"k is incresingggg\")\n",
    "    k2 += 1"
   ],
   "metadata": {
    "collapsed": false,
    "pycharm": {
     "name": "#%%\n",
     "is_executing": false
    }
   }
  },
  {
   "cell_type": "code",
   "execution_count": 11,
   "outputs": [
    {
     "name": "stdout",
     "text": [
      "[108, 257, 314, 328, 452, 522, 1108, 1166, 1167, 1179]\n",
      "10\n"
     ],
     "output_type": "stream"
    }
   ],
   "source": [
    "print(most_likely_to_like)\n",
    "print(len(most_likely_to_like))"
   ],
   "metadata": {
    "collapsed": false,
    "pycharm": {
     "name": "#%%\n",
     "is_executing": false
    }
   }
  },
  {
   "cell_type": "code",
   "execution_count": null,
   "outputs": [],
   "source": [
    "\n"
   ],
   "metadata": {
    "collapsed": false,
    "pycharm": {
     "name": "#%%\n"
    }
   }
  }
 ],
 "metadata": {
  "kernelspec": {
   "display_name": "Python 3",
   "language": "python",
   "name": "python3"
  },
  "language_info": {
   "codemirror_mode": {
    "name": "ipython",
    "version": 2
   },
   "file_extension": ".py",
   "mimetype": "text/x-python",
   "name": "python",
   "nbconvert_exporter": "python",
   "pygments_lexer": "ipython2",
   "version": "2.7.6"
  },
  "pycharm": {
   "stem_cell": {
    "cell_type": "raw",
    "source": [],
    "metadata": {
     "collapsed": false
    }
   }
  }
 },
 "nbformat": 4,
 "nbformat_minor": 0
}