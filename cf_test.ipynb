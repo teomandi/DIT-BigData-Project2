{
 "cells": [
  {
   "cell_type": "code",
   "execution_count": 7,
   "metadata": {
    "collapsed": true,
    "pycharm": {
     "is_executing": false
    }
   },
   "outputs": [],
   "source": [
    "import pandas as pd\n",
    "import numpy as np\n",
    "import os\n",
    "import time\n",
    "from sklearn.metrics.pairwise import cosine_similarity\n",
    "from scipy.sparse import csr_matrix\n",
    "import pickle"
   ]
  },
  {
   "cell_type": "code",
   "execution_count": 8,
   "outputs": [],
   "source": [
    "movies_path = os.path.join(\"ml-25m\", \"movies.csv\")\n",
    "ratings_path = os.path.join(\"ml-25m\", \"ratings.csv\")\n",
    "\n",
    "user_mean_path = os.path.join(\"ml-25m\", \"user_mean.csv\")\n",
    "ratings_avg_path = os.path.join(\"ml-25m\", \"ratings_avg.csv\")\n",
    "ratings_avg2_path = os.path.join(\"ml-25m\", \"ratings_real_avg.csv\")\n",
    "\n",
    "final_path = os.path.join(\"ml-25m\", \"final.csv\")\n",
    "cosine_path = os.path.join(\"ml-25m\", \"cosine.csv\")\n",
    "\n",
    "pivot_table_path = os.path.join(\"ml-25m\", \"pivot_table.sparse\")"
   ],
   "metadata": {
    "collapsed": false,
    "pycharm": {
     "name": "#%%\n",
     "is_executing": false
    }
   }
  },
  {
   "cell_type": "code",
   "execution_count": 4,
   "outputs": [],
   "source": [
    "iteration = 0\n",
    "movies_ids = np.array([])\n",
    "users_ids = np.array([])\n",
    "\n",
    "for chunk in pd.read_csv(ratings_path, chunksize=10000):\n",
    "    movies_ids = np.append(movies_ids, chunk['movieId'].unique())\n",
    "    users_ids = np.append(users_ids, chunk['userId'].unique())\n",
    "    iteration += 1\n",
    "movies_ids = np.unique(movies_ids) \n",
    "users_ids = np.unique(users_ids) "
   ],
   "metadata": {
    "collapsed": false,
    "pycharm": {
     "name": "#%%\n",
     "is_executing": false
    }
   }
  },
  {
   "cell_type": "code",
   "execution_count": 34,
   "outputs": [
    {
     "name": "stdout",
     "text": [
      "iterations:  2501\n",
      "dif movies are:  (59047,)\n",
      "dif users are:  (162541,)\n"
     ],
     "output_type": "stream"
    }
   ],
   "source": [
    "print(\"iterations: \", iteration)\n",
    "print(\"dif movies are: \", movies_ids.shape)\n",
    "print(\"dif users are: \", users_ids.shape)"
   ],
   "metadata": {
    "collapsed": false,
    "pycharm": {
     "name": "#%%\n",
     "is_executing": false
    }
   }
  },
  {
   "cell_type": "code",
   "execution_count": 6,
   "outputs": [
    {
     "name": "stderr",
     "text": [
      "/home/teomandi/anaconda3/envs/project1/lib/python3.7/site-packages/scipy/sparse/_index.py:126: SparseEfficiencyWarning: Changing the sparsity structure of a csr_matrix is expensive. lil_matrix is more efficient.\n",
      "  self._set_arrayXarray(i, j, x)\n"
     ],
     "output_type": "stream"
    },
    {
     "name": "stdout",
     "text": [
      "Took 918.479\n"
     ],
     "output_type": "stream"
    }
   ],
   "source": [
    "starting_tm = time.time()\n",
    "pivot_table = csr_matrix((len(users_ids), len(movies_ids)))\n",
    "for chunk in pd.read_csv(ratings_path, chunksize=100000):\n",
    "    loop_tm = time.time()\n",
    "    rows = [i-1 for i in chunk['userId'].tolist()]\n",
    "    cols = [np.where(movies_ids == j)[0][0] for j in chunk['movieId']]\n",
    "    vals = chunk['rating'].tolist()\n",
    "    pivot_table[rows, cols] = vals\n",
    "    # print(\"Took {:.3f}\".format(time.time()-loop_tm))\n",
    "print(\"Took {:.3f}\".format(time.time()-starting_tm))"
   ],
   "metadata": {
    "collapsed": false,
    "pycharm": {
     "name": "#%%\n",
     "is_executing": false
    }
   }
  },
  {
   "cell_type": "code",
   "execution_count": 9,
   "outputs": [
    {
     "name": "stdout",
     "text": [
      "PivoTable was stored\n"
     ],
     "output_type": "stream"
    }
   ],
   "source": [
    "pickle.dump(pivot_table, open(pivot_table_path, \"wb\"))\n",
    "print(\"PivoTable was stored\")"
   ],
   "metadata": {
    "collapsed": false,
    "pycharm": {
     "name": "#%%\n",
     "is_executing": false
    }
   }
  },
  {
   "cell_type": "markdown",
   "source": [
    "---"
   ],
   "metadata": {
    "collapsed": false,
    "pycharm": {
     "name": "#%% md\n"
    }
   }
  },
  {
   "cell_type": "code",
   "execution_count": 11,
   "outputs": [],
   "source": [
    "ratings = pd.read_csv(ratings_path)"
   ],
   "metadata": {
    "collapsed": false,
    "pycharm": {
     "name": "#%%\n",
     "is_executing": false
    }
   }
  },
  {
   "cell_type": "code",
   "execution_count": 12,
   "outputs": [
    {
     "name": "stdout",
     "text": [
      "dif movies are:  59047\n",
      "dif users are:  162541\n"
     ],
     "output_type": "stream"
    }
   ],
   "source": [
    "print(\"ALL movies are: \", len(ratings['movieId'].unique()))\n",
    "print(\"ALL users are: \", len(ratings['userId'].unique()))"
   ],
   "metadata": {
    "collapsed": false,
    "pycharm": {
     "name": "#%%\n",
     "is_executing": false
    }
   }
  },
  {
   "cell_type": "code",
   "execution_count": 42,
   "outputs": [
    {
     "name": "stdout",
     "text": [
      "Took 1236.958\n"
     ],
     "output_type": "stream"
    }
   ],
   "source": [
    "# Get mean from ratings \n",
    "starting_tm = time.time() \n",
    "iteration = 0\n",
    "for chunk in pd.read_csv(ratings_path, chunksize=10000):\n",
    "    user_mean = chunk.groupby(by=\"userId\",as_index=False)['rating'].mean()\n",
    "    ratings_avg_part = pd.merge(chunk, user_mean, on='userId')\n",
    "    ratings_avg_part['adg_rating']=ratings_avg_part['rating_x']-ratings_avg_part['rating_y']\n",
    "    if iteration == 0:\n",
    "        # rating_avg.to_csv(ratings_avg_path)\n",
    "        ratings_avg = ratings_avg_part\n",
    "        # print(\"starting shape: \", ratings_avg.shape)\n",
    "    else:\n",
    "        # rating_avg.to_csv(ratings_avg_path, mode = 'a', header = False)\n",
    "        # print(\"adding part: \", ratings_avg_part.shape)\n",
    "        ratings_avg = pd.concat([ratings_avg, ratings_avg_part])  \n",
    "        # print(\"starting shape: \", ratings_avg.shape)\n",
    "        # break\n",
    "    iteration += 1\n",
    "    \n",
    "print(\"Took {:.3f}\".format(time.time()-starting_tm))"
   ],
   "metadata": {
    "collapsed": false,
    "pycharm": {
     "name": "#%%\n",
     "is_executing": false
    }
   }
  },
  {
   "cell_type": "code",
   "execution_count": 43,
   "outputs": [
    {
     "data": {
      "text/plain": "(25000095, 6)"
     },
     "metadata": {},
     "output_type": "execute_result",
     "execution_count": 43
    }
   ],
   "source": [
    "ratings_avg.shape"
   ],
   "metadata": {
    "collapsed": false,
    "pycharm": {
     "name": "#%%\n",
     "is_executing": false
    }
   }
  },
  {
   "cell_type": "code",
   "execution_count": 15,
   "outputs": [
    {
     "data": {
      "text/plain": "   userId  movieId  rating_x   timestamp  rating_y  adg_rating\n0       1      296       5.0  1147880044  3.814286    1.185714\n1       1      306       3.5  1147868817  3.814286   -0.314286\n2       1      307       5.0  1147868828  3.814286    1.185714\n3       1      665       5.0  1147878820  3.814286    1.185714\n4       1      899       3.5  1147868510  3.814286   -0.314286",
      "text/html": "<div>\n<style scoped>\n    .dataframe tbody tr th:only-of-type {\n        vertical-align: middle;\n    }\n\n    .dataframe tbody tr th {\n        vertical-align: top;\n    }\n\n    .dataframe thead th {\n        text-align: right;\n    }\n</style>\n<table border=\"1\" class=\"dataframe\">\n  <thead>\n    <tr style=\"text-align: right;\">\n      <th></th>\n      <th>userId</th>\n      <th>movieId</th>\n      <th>rating_x</th>\n      <th>timestamp</th>\n      <th>rating_y</th>\n      <th>adg_rating</th>\n    </tr>\n  </thead>\n  <tbody>\n    <tr>\n      <th>0</th>\n      <td>1</td>\n      <td>296</td>\n      <td>5.0</td>\n      <td>1147880044</td>\n      <td>3.814286</td>\n      <td>1.185714</td>\n    </tr>\n    <tr>\n      <th>1</th>\n      <td>1</td>\n      <td>306</td>\n      <td>3.5</td>\n      <td>1147868817</td>\n      <td>3.814286</td>\n      <td>-0.314286</td>\n    </tr>\n    <tr>\n      <th>2</th>\n      <td>1</td>\n      <td>307</td>\n      <td>5.0</td>\n      <td>1147868828</td>\n      <td>3.814286</td>\n      <td>1.185714</td>\n    </tr>\n    <tr>\n      <th>3</th>\n      <td>1</td>\n      <td>665</td>\n      <td>5.0</td>\n      <td>1147878820</td>\n      <td>3.814286</td>\n      <td>1.185714</td>\n    </tr>\n    <tr>\n      <th>4</th>\n      <td>1</td>\n      <td>899</td>\n      <td>3.5</td>\n      <td>1147868510</td>\n      <td>3.814286</td>\n      <td>-0.314286</td>\n    </tr>\n  </tbody>\n</table>\n</div>"
     },
     "metadata": {},
     "output_type": "execute_result",
     "execution_count": 15
    }
   ],
   "source": [
    "ratings = pd.read_csv(ratings_path)\n",
    "user_mean = ratings.groupby(by=\"userId\",as_index=False)['rating'].mean()\n",
    "rating_real_avg = pd.merge(ratings, user_mean, on='userId')\n",
    "rating_real_avg['adg_rating'] = rating_real_avg['rating_x']-rating_real_avg['rating_y']\n",
    "rating_real_avg.to_csv(ratings_avg2_path)"
   ],
   "metadata": {
    "collapsed": false,
    "pycharm": {
     "name": "#%%\n",
     "is_executing": false
    }
   }
  },
  {
   "cell_type": "code",
   "execution_count": 44,
   "outputs": [
    {
     "traceback": [
      "\u001b[0;31m---------------------------------------------------------------------------\u001b[0m",
      "\u001b[0;31mNameError\u001b[0m                                 Traceback (most recent call last)",
      "\u001b[0;32m<ipython-input-44-207a82f5148a>\u001b[0m in \u001b[0;36m<module>\u001b[0;34m\u001b[0m\n\u001b[0;32m----> 1\u001b[0;31m \u001b[0mprint\u001b[0m\u001b[0;34m(\u001b[0m\u001b[0mrating_real_avg\u001b[0m\u001b[0;34m.\u001b[0m\u001b[0mshape\u001b[0m\u001b[0;34m)\u001b[0m\u001b[0;34m\u001b[0m\u001b[0;34m\u001b[0m\u001b[0m\n\u001b[0m\u001b[1;32m      2\u001b[0m \u001b[0mprint\u001b[0m\u001b[0;34m(\u001b[0m\u001b[0mrating_real_avg\u001b[0m\u001b[0;34m.\u001b[0m\u001b[0mhead\u001b[0m\u001b[0;34m(\u001b[0m\u001b[0;34m)\u001b[0m\u001b[0;34m)\u001b[0m\u001b[0;34m\u001b[0m\u001b[0;34m\u001b[0m\u001b[0m\n\u001b[1;32m      3\u001b[0m \u001b[0;34m\u001b[0m\u001b[0m\n",
      "\u001b[0;31mNameError\u001b[0m: name 'rating_real_avg' is not defined"
     ],
     "ename": "NameError",
     "evalue": "name 'rating_real_avg' is not defined",
     "output_type": "error"
    }
   ],
   "source": [
    "print(rating_real_avg.shape)\n",
    "print(rating_real_avg.head())"
   ],
   "metadata": {
    "collapsed": false,
    "pycharm": {
     "name": "#%%\n",
     "is_executing": false
    }
   }
  },
  {
   "cell_type": "code",
   "execution_count": null,
   "outputs": [],
   "source": [
    "print(rating_avg[:1000].shape)\n",
    "rating_avg.head()"
   ],
   "metadata": {
    "collapsed": false,
    "pycharm": {
     "name": "#%%\n"
    }
   }
  },
  {
   "cell_type": "code",
   "execution_count": 22,
   "outputs": [],
   "source": [
    "final=pd.pivot_table(rating_avg[:1000], values='adg_rating',index='userId',columns='movieId')\n",
    "final_final =  final.fillna(final.mean(axis=0))"
   ],
   "metadata": {
    "collapsed": false,
    "pycharm": {
     "name": "#%%\n",
     "is_executing": false
    }
   }
  },
  {
   "cell_type": "code",
   "execution_count": 23,
   "outputs": [
    {
     "name": "stdout",
     "text": [
      "(4, 869)\n"
     ],
     "output_type": "stream"
    },
    {
     "data": {
      "text/plain": "movieId    1         29        32        50        62        110       111     \\\nuserId                                                                          \n1       -0.068647  0.802591  0.802591  1.302591 -3.130435  1.369565  0.302591   \n2       -0.130435  0.802591  0.802591  1.302591 -3.130435  1.369565  0.302591   \n3        0.302591  0.802591  0.802591  1.302591 -3.130435  1.369565  0.302591   \n4       -0.378099  0.802591  0.802591  1.302591 -3.130435  1.369565  0.302591   \n\nmovieId    150       151       172     ...    168252    168612    171763  \\\nuserId                                 ...                                 \n1        0.369565  0.869565  0.302591  ...  0.302591  0.302591 -0.197409   \n2        0.369565  0.869565  0.302591  ...  0.302591  0.302591 -0.197409   \n3        0.369565  0.869565  0.302591  ...  0.302591  0.302591 -0.197409   \n4        0.369565  0.869565  0.302591  ...  0.302591  0.302591 -0.197409   \n\nmovieId    175197    176101    176371    179819    182823    187541    187593  \nuserId                                                                         \n1       -0.197409 -0.197409  0.802591 -0.197409 -0.697409 -0.197409  0.802591  \n2       -0.197409 -0.197409  0.802591 -0.197409 -0.697409 -0.197409  0.802591  \n3       -0.197409 -0.197409  0.802591 -0.197409 -0.697409 -0.197409  0.802591  \n4       -0.197409 -0.197409  0.802591 -0.197409 -0.697409 -0.197409  0.802591  \n\n[4 rows x 869 columns]",
      "text/html": "<div>\n<style scoped>\n    .dataframe tbody tr th:only-of-type {\n        vertical-align: middle;\n    }\n\n    .dataframe tbody tr th {\n        vertical-align: top;\n    }\n\n    .dataframe thead th {\n        text-align: right;\n    }\n</style>\n<table border=\"1\" class=\"dataframe\">\n  <thead>\n    <tr style=\"text-align: right;\">\n      <th>movieId</th>\n      <th>1</th>\n      <th>29</th>\n      <th>32</th>\n      <th>50</th>\n      <th>62</th>\n      <th>110</th>\n      <th>111</th>\n      <th>150</th>\n      <th>151</th>\n      <th>172</th>\n      <th>...</th>\n      <th>168252</th>\n      <th>168612</th>\n      <th>171763</th>\n      <th>175197</th>\n      <th>176101</th>\n      <th>176371</th>\n      <th>179819</th>\n      <th>182823</th>\n      <th>187541</th>\n      <th>187593</th>\n    </tr>\n    <tr>\n      <th>userId</th>\n      <th></th>\n      <th></th>\n      <th></th>\n      <th></th>\n      <th></th>\n      <th></th>\n      <th></th>\n      <th></th>\n      <th></th>\n      <th></th>\n      <th></th>\n      <th></th>\n      <th></th>\n      <th></th>\n      <th></th>\n      <th></th>\n      <th></th>\n      <th></th>\n      <th></th>\n      <th></th>\n      <th></th>\n    </tr>\n  </thead>\n  <tbody>\n    <tr>\n      <th>1</th>\n      <td>-0.068647</td>\n      <td>0.802591</td>\n      <td>0.802591</td>\n      <td>1.302591</td>\n      <td>-3.130435</td>\n      <td>1.369565</td>\n      <td>0.302591</td>\n      <td>0.369565</td>\n      <td>0.869565</td>\n      <td>0.302591</td>\n      <td>...</td>\n      <td>0.302591</td>\n      <td>0.302591</td>\n      <td>-0.197409</td>\n      <td>-0.197409</td>\n      <td>-0.197409</td>\n      <td>0.802591</td>\n      <td>-0.197409</td>\n      <td>-0.697409</td>\n      <td>-0.197409</td>\n      <td>0.802591</td>\n    </tr>\n    <tr>\n      <th>2</th>\n      <td>-0.130435</td>\n      <td>0.802591</td>\n      <td>0.802591</td>\n      <td>1.302591</td>\n      <td>-3.130435</td>\n      <td>1.369565</td>\n      <td>0.302591</td>\n      <td>0.369565</td>\n      <td>0.869565</td>\n      <td>0.302591</td>\n      <td>...</td>\n      <td>0.302591</td>\n      <td>0.302591</td>\n      <td>-0.197409</td>\n      <td>-0.197409</td>\n      <td>-0.197409</td>\n      <td>0.802591</td>\n      <td>-0.197409</td>\n      <td>-0.697409</td>\n      <td>-0.197409</td>\n      <td>0.802591</td>\n    </tr>\n    <tr>\n      <th>3</th>\n      <td>0.302591</td>\n      <td>0.802591</td>\n      <td>0.802591</td>\n      <td>1.302591</td>\n      <td>-3.130435</td>\n      <td>1.369565</td>\n      <td>0.302591</td>\n      <td>0.369565</td>\n      <td>0.869565</td>\n      <td>0.302591</td>\n      <td>...</td>\n      <td>0.302591</td>\n      <td>0.302591</td>\n      <td>-0.197409</td>\n      <td>-0.197409</td>\n      <td>-0.197409</td>\n      <td>0.802591</td>\n      <td>-0.197409</td>\n      <td>-0.697409</td>\n      <td>-0.197409</td>\n      <td>0.802591</td>\n    </tr>\n    <tr>\n      <th>4</th>\n      <td>-0.378099</td>\n      <td>0.802591</td>\n      <td>0.802591</td>\n      <td>1.302591</td>\n      <td>-3.130435</td>\n      <td>1.369565</td>\n      <td>0.302591</td>\n      <td>0.369565</td>\n      <td>0.869565</td>\n      <td>0.302591</td>\n      <td>...</td>\n      <td>0.302591</td>\n      <td>0.302591</td>\n      <td>-0.197409</td>\n      <td>-0.197409</td>\n      <td>-0.197409</td>\n      <td>0.802591</td>\n      <td>-0.197409</td>\n      <td>-0.697409</td>\n      <td>-0.197409</td>\n      <td>0.802591</td>\n    </tr>\n  </tbody>\n</table>\n<p>4 rows × 869 columns</p>\n</div>"
     },
     "metadata": {},
     "output_type": "execute_result",
     "execution_count": 23
    }
   ],
   "source": [
    "print(final_final.shape)\n",
    "final_final.head()"
   ],
   "metadata": {
    "collapsed": false,
    "pycharm": {
     "name": "#%%\n",
     "is_executing": false
    }
   }
  },
  {
   "cell_type": "code",
   "execution_count": 24,
   "outputs": [
    {
     "data": {
      "text/plain": "userId         1         2         3         4\nuserId                                        \n1       0.000000  0.976006  0.976567  0.985163\n2       0.976006  0.000000  0.932594  0.954750\n3       0.976567  0.932594  0.000000  0.960560\n4       0.985163  0.954750  0.960560  0.000000",
      "text/html": "<div>\n<style scoped>\n    .dataframe tbody tr th:only-of-type {\n        vertical-align: middle;\n    }\n\n    .dataframe tbody tr th {\n        vertical-align: top;\n    }\n\n    .dataframe thead th {\n        text-align: right;\n    }\n</style>\n<table border=\"1\" class=\"dataframe\">\n  <thead>\n    <tr style=\"text-align: right;\">\n      <th>userId</th>\n      <th>1</th>\n      <th>2</th>\n      <th>3</th>\n      <th>4</th>\n    </tr>\n    <tr>\n      <th>userId</th>\n      <th></th>\n      <th></th>\n      <th></th>\n      <th></th>\n    </tr>\n  </thead>\n  <tbody>\n    <tr>\n      <th>1</th>\n      <td>0.000000</td>\n      <td>0.976006</td>\n      <td>0.976567</td>\n      <td>0.985163</td>\n    </tr>\n    <tr>\n      <th>2</th>\n      <td>0.976006</td>\n      <td>0.000000</td>\n      <td>0.932594</td>\n      <td>0.954750</td>\n    </tr>\n    <tr>\n      <th>3</th>\n      <td>0.976567</td>\n      <td>0.932594</td>\n      <td>0.000000</td>\n      <td>0.960560</td>\n    </tr>\n    <tr>\n      <th>4</th>\n      <td>0.985163</td>\n      <td>0.954750</td>\n      <td>0.960560</td>\n      <td>0.000000</td>\n    </tr>\n  </tbody>\n</table>\n</div>"
     },
     "metadata": {},
     "output_type": "execute_result",
     "execution_count": 24
    }
   ],
   "source": [
    "cosine = cosine_similarity(final_final)\n",
    "np.fill_diagonal(cosine, 0 )\n",
    "similarity_with_movie =pd.DataFrame(cosine,index=final_final.index)\n",
    "similarity_with_movie.columns=final_final.index\n",
    "similarity_with_movie.head()\n",
    "\n",
    "\n"
   ],
   "metadata": {
    "collapsed": false,
    "pycharm": {
     "name": "#%%\n",
     "is_executing": false
    }
   }
  }
 ],
 "metadata": {
  "kernelspec": {
   "display_name": "Python 3",
   "language": "python",
   "name": "python3"
  },
  "language_info": {
   "codemirror_mode": {
    "name": "ipython",
    "version": 2
   },
   "file_extension": ".py",
   "mimetype": "text/x-python",
   "name": "python",
   "nbconvert_exporter": "python",
   "pygments_lexer": "ipython2",
   "version": "2.7.6"
  },
  "pycharm": {
   "stem_cell": {
    "cell_type": "raw",
    "source": [],
    "metadata": {
     "collapsed": false
    }
   }
  }
 },
 "nbformat": 4,
 "nbformat_minor": 0
}