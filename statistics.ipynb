{
 "cells": [
  {
   "cell_type": "code",
   "execution_count": 1,
   "outputs": [],
   "source": [
    "import csv\n",
    "import pandas as pd\n",
    "import numpy as np\n",
    "import os\n",
    "from sklearn.preprocessing import OneHotEncoder\n",
    "from sklearn.feature_extraction.text import CountVectorizer"
   ],
   "metadata": {
    "collapsed": false,
    "pycharm": {
     "name": "#%%\n",
     "is_executing": false
    }
   }
  },
  {
   "cell_type": "code",
   "execution_count": 2,
   "outputs": [],
   "source": [
    "movies_path = os.path.join(\"ml-25m\", \"movies.csv\")\n",
    "tags_path = os.path.join(\"ml-25m\", \"tags.csv\")\n",
    "\n",
    "step = 10000\n",
    "k = 10"
   ],
   "metadata": {
    "collapsed": false,
    "pycharm": {
     "name": "#%%\n",
     "is_executing": false
    }
   }
  },
  {
   "cell_type": "code",
   "execution_count": 6,
   "outputs": [
    {
     "name": "stdout",
     "text": [
      "Iteration: 0 len: 10000\n",
      "Iteration: 1 len: 10000\n",
      "Iteration: 2 len: 10000\n",
      "Iteration: 3 len: 10000\n",
      "Iteration: 4 len: 10000\n",
      "Iteration: 5 len: 10000\n",
      "Iteration: 6 len: 2423\n",
      "complete\n",
      "7\n"
     ],
     "output_type": "stream"
    }
   ],
   "source": [
    "iteration = 0\n",
    "while True:\n",
    "    batch_df = pd.read_csv(movies_path, nrows=step, skiprows=step*iteration, usecols=[1,2])\n",
    "    print(\"Iteration:\", iteration, \"len:\", len(batch_df))\n",
    "    iteration += 1\n",
    "    if len(batch_df) < step :\n",
    "        print(\"complete\")\n",
    "        break\n",
    "print(iteration)"
   ],
   "metadata": {
    "collapsed": false,
    "pycharm": {
     "name": "#%%\n",
     "is_executing": false
    }
   }
  },
  {
   "cell_type": "code",
   "execution_count": 7,
   "outputs": [
    {
     "name": "stdout",
     "text": [
      "dict_keys([3, 1, 6, 2, 10, 7, 4, 5, 9, 8])\n",
      "['funny', 'best friend', 'duringcreditsstinger', 'fishing', 'old man', 'sequel fever', 'moldy', 'old', 'sequel', 'NO_FA_GANES', 'Jack Lemmon', 'Walter Matthau', 'grun running', 'comedinha de velhinhos engraÃƒÂ§ada', 'old people that is actually funny', 'Howard Deutch', 'CLV', 'sequel', 'comedinha de velhinhos engraÃ§ada', 'moldy', 'old', 'Ann Margaret', 'Burgess Meredith', 'Daryl Hannah', 'fishing', 'good soundtrack', 'Jack Lemmon', 'Sophia Loren', 'Walter Matthau']\n",
      "Iterations:  0\n",
      "Took 0.920\n"
     ],
     "output_type": "stream"
    }
   ],
   "source": [
    "import time\n",
    "\n",
    "starting_tm = time.time()\n",
    "with open(tags_path) as f:\n",
    "    iteration = 0\n",
    "    for chunk in pd.read_csv(movies_path, chunksize=10):\n",
    "        chunk_data = {}  # movie_id : [tags]\n",
    "        chunk_ids = chunk['movieId'].tolist()\n",
    "        # print(chunk_ids)\n",
    "        reader = csv.reader(f)\n",
    "        for row in reader:\n",
    "            try: \n",
    "                if int(row[1]) in chunk_ids:\n",
    "                    if int(row[1]) not in chunk_data:\n",
    "                        chunk_data[int(row[1])] = [row[2]]\n",
    "                    else:\n",
    "                        chunk_data[int(row[1])].append(row[2])\n",
    "            except:\n",
    "                continue\n",
    "        print(chunk_data.keys())\n",
    "        print(chunk_data[3])\n",
    "        break\n",
    "\n",
    "        iteration += 1\n",
    "print(\"Iterations: \", iteration)\n",
    "print(\"Took {:.3f}\".format(time.time()-starting_tm))"
   ],
   "metadata": {
    "collapsed": false,
    "pycharm": {
     "name": "#%%\n",
     "is_executing": false
    }
   }
  },
  {
   "cell_type": "code",
   "execution_count": null,
   "outputs": [],
   "source": [
    "\n"
   ],
   "metadata": {
    "collapsed": false,
    "pycharm": {
     "name": "#%%\n"
    }
   }
  }
 ],
 "metadata": {
  "kernelspec": {
   "display_name": "Python 3",
   "language": "python",
   "name": "python3"
  },
  "language_info": {
   "codemirror_mode": {
    "name": "ipython",
    "version": 2
   },
   "file_extension": ".py",
   "mimetype": "text/x-python",
   "name": "python",
   "nbconvert_exporter": "python",
   "pygments_lexer": "ipython2",
   "version": "2.7.6"
  },
  "pycharm": {
   "stem_cell": {
    "cell_type": "raw",
    "source": [],
    "metadata": {
     "collapsed": false
    }
   }
  }
 },
 "nbformat": 4,
 "nbformat_minor": 0
}