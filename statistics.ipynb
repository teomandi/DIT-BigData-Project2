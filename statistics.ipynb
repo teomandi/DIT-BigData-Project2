{
 "cells": [
  {
   "cell_type": "code",
   "execution_count": 1,
   "outputs": [],
   "source": [
    "import csv\n",
    "import pandas as pd\n",
    "import numpy as np\n",
    "import os\n",
    "import time\n",
    "\n",
    "import random\n",
    "from sklearn.preprocessing import OneHotEncoder\n",
    "from sklearn.feature_extraction.text import CountVectorizer"
   ],
   "metadata": {
    "collapsed": false,
    "pycharm": {
     "name": "#%%\n",
     "is_executing": false
    }
   }
  },
  {
   "cell_type": "code",
   "execution_count": 2,
   "outputs": [],
   "source": [
    "movies_path = os.path.join(\"ml-25m\", \"movies.csv\")\n",
    "tags_path = os.path.join(\"ml-25m\", \"tags.csv\")\n",
    "ratings_path = os.path.join(\"ml-25m\", \"ratings.csv\")\n",
    "new_datafile_path = os.path.join(\"ml-25m\", \"new_movies_tag_file.csv\")\n"
   ],
   "metadata": {
    "collapsed": false,
    "pycharm": {
     "name": "#%%\n",
     "is_executing": false
    }
   }
  },
  {
   "cell_type": "code",
   "execution_count": 3,
   "outputs": [
    {
     "name": "stdout",
     "text": [
      "63\n"
     ],
     "output_type": "stream"
    }
   ],
   "source": [
    "iteration = 0\n",
    "for chunk in pd.read_csv(new_datafile_path, chunksize=1000):\n",
    "    iteration += 1\n",
    "print(iter)"
   ],
   "metadata": {
    "collapsed": false,
    "pycharm": {
     "name": "#%%\n",
     "is_executing": false
    }
   }
  },
  {
   "cell_type": "code",
   "execution_count": null,
   "outputs": [],
   "source": [
    "print(\"starts\")\n",
    "with open(ratings_path) as f:\n",
    "    reader = csv.reader(f)\n",
    "    last_id = -1\n",
    "    curr_id = -1\n",
    "    for row in reader:\n",
    "        try:\n",
    "            id = int(row[0])\n",
    "        except:\n",
    "            continue\n",
    "        if id != curr_id:\n",
    "            dt = id - curr_id\n",
    "            if dt > 1:\n",
    "                print(\"big difference \", curr_id, \" = \", id)\n",
    "            curr_id = id\n",
    "print(\"done\",curr_id)\n",
    "        \n"
   ],
   "metadata": {
    "collapsed": false,
    "pycharm": {
     "name": "#%%\n"
    }
   }
  },
  {
   "cell_type": "code",
   "execution_count": null,
   "outputs": [],
   "source": [
    "step = 10000\n",
    "k = 10"
   ],
   "metadata": {
    "collapsed": false,
    "pycharm": {
     "name": "#%%\n"
    }
   }
  },
  {
   "cell_type": "code",
   "execution_count": null,
   "outputs": [],
   "source": [
    "iteration = 0\n",
    "while True:\n",
    "    batch_df = pd.read_csv(movies_path, nrows=step, skiprows=step*iteration, usecols=[1,2])\n",
    "    print(\"Iteration:\", iteration, \"len:\", len(batch_df))\n",
    "    iteration += 1\n",
    "    if len(batch_df) < step :\n",
    "        print(\"complete\")\n",
    "        break\n",
    "print(iteration)"
   ],
   "metadata": {
    "collapsed": false,
    "pycharm": {
     "name": "#%%\n",
     "is_executing": true
    }
   }
  },
  {
   "cell_type": "code",
   "execution_count": 3,
   "outputs": [
    {
     "name": "stdout",
     "text": [
      "0  done  3791 Took 40.054\n",
      "1  done  3852 Took 43.449\n",
      "2  done  3853 Took 44.063\n",
      "3  done  3700 Took 43.309\n",
      "4  done  3460 Took 44.277\n",
      "5  done  3485 Took 44.462\n",
      "6  done  3183 Took 45.418\n",
      "7  done  2857 Took 45.579\n",
      "8  done  2754 Took 45.427\n",
      "9  done  2659 Took 46.400\n",
      "10  done  2922 Took 47.380\n",
      "11  done  2692 Took 49.859\n",
      "12  done  2625 Took 49.000\n",
      "13  done  2086 Took 48.234\n",
      "14  done  899 Took 47.121\n",
      "15  done  433 Took 28.617\n",
      "Iterations:  16\n",
      "Took 712.747\n"
     ],
     "output_type": "stream"
    }
   ],
   "source": [
    "\n",
    "starting_tm = time.time()\n",
    "iteration = 0\n",
    "for chunk in pd.read_csv(movies_path, chunksize=4000):\n",
    "    chunk_data = {}  # movie_id : [tags]\n",
    "    chunk_ids = chunk['movieId'].tolist()\n",
    "    stm = time.time()\n",
    "    with open(tags_path) as f:\n",
    "        reader = csv.reader(f)\n",
    "        for row in reader:\n",
    "            try: \n",
    "                if int(row[1]) in chunk_ids:\n",
    "                    if int(row[1]) not in chunk_data:\n",
    "                        chunk_data[int(row[1])] = [row[2]]\n",
    "                    else:\n",
    "                        chunk_data[int(row[1])].append(row[2])\n",
    "            except:\n",
    "                # print(\"??\")\n",
    "                continue\n",
    "                    \n",
    "    print(iteration, \" done \", len(chunk_data),\"Took {:.3f}\".format(time.time()-stm))\n",
    "    iteration += 1\n",
    "        \n",
    "print(\"Iterations: \", iteration)\n",
    "print(\"Took {:.3f}\".format(time.time()-starting_tm))"
   ],
   "metadata": {
    "collapsed": false,
    "pycharm": {
     "name": "#%%\n",
     "is_executing": false
    }
   }
  },
  {
   "cell_type": "code",
   "execution_count": null,
   "outputs": [],
   "source": [
    "\n",
    "for chunk in pd.read_csv(movies_path, chunksize=1000):\n",
    "    random_clusters_ids = [chunk['movieId'][i] for i in random.sample(range(1000), 10)]\n",
    "    break\n",
    "print(random_clusters_ids)"
   ],
   "metadata": {
    "collapsed": false,
    "pycharm": {
     "name": "#%%\n",
     "is_executing": true
    }
   }
  },
  {
   "cell_type": "code",
   "execution_count": 5,
   "outputs": [],
   "source": [
    "\n",
    "df_movies = pd.read_csv(movies_path)\n",
    "df_tags = pd.read_csv(tags_path)\n",
    "df_ratings = pd.read_csv(ratings_path)"
   ],
   "metadata": {
    "collapsed": false,
    "pycharm": {
     "name": "#%%\n",
     "is_executing": false
    }
   }
  },
  {
   "cell_type": "code",
   "execution_count": 7,
   "outputs": [
    {
     "name": "stdout",
     "text": [
      "62423 1093360 25000095\n"
     ],
     "output_type": "stream"
    }
   ],
   "source": [
    "print(len(df_movies),len(df_tags),len(df_ratings))\n"
   ],
   "metadata": {
    "collapsed": false,
    "pycharm": {
     "name": "#%%\n",
     "is_executing": false
    }
   }
  },
  {
   "cell_type": "code",
   "execution_count": 7,
   "outputs": [
    {
     "name": "stdout",
     "text": [
      "0  done  40 Took 28.697\n",
      "key:  1 len-value 57309\n",
      "key:  29 len-value 8305\n",
      "key:  32 len-value 47054\n",
      "key:  19 len-value 21552\n",
      "key:  36 len-value 19388\n",
      "key:  39 len-value 26230\n",
      "key:  10 len-value 28265\n",
      "key:  17 len-value 19729\n",
      "key:  28 len-value 2950\n",
      "key:  3 len-value 11804\n",
      "key:  6 len-value 24588\n",
      "key:  7 len-value 12132\n",
      "key:  11 len-value 17042\n",
      "key:  16 len-value 18404\n",
      "key:  18 len-value 5374\n",
      "key:  21 len-value 22277\n",
      "key:  25 len-value 20070\n",
      "key:  27 len-value 1577\n",
      "key:  2 len-value 24228\n",
      "key:  34 len-value 31456\n",
      "key:  20 len-value 3840\n",
      "key:  22 len-value 9237\n",
      "key:  31 len-value 9106\n",
      "key:  5 len-value 11714\n",
      "key:  14 len-value 5509\n",
      "key:  40 len-value 797\n",
      "key:  26 len-value 2549\n",
      "key:  9 len-value 3711\n",
      "key:  30 len-value 1166\n",
      "key:  35 len-value 1352\n",
      "key:  24 len-value 7450\n",
      "key:  23 len-value 4108\n",
      "key:  4 len-value 2523\n",
      "key:  13 len-value 1715\n",
      "key:  12 len-value 3741\n",
      "key:  33 len-value 65\n",
      "key:  37 len-value 75\n",
      "key:  15 len-value 2760\n",
      "key:  8 len-value 1344\n",
      "key:  38 len-value 631\n",
      "Iterations:  0\n",
      "Took 28.709\n"
     ],
     "output_type": "stream"
    }
   ],
   "source": [
    "\n",
    "starting_tm = time.time()\n",
    "iteration = 0\n",
    "for chunk in pd.read_csv(movies_path, chunksize=40):\n",
    "    chunk_data = {}  # movie_id : [tags]\n",
    "    chunk_ids = chunk['movieId'].tolist()\n",
    "    stm = time.time()\n",
    "    with open(ratings_path) as f:\n",
    "        reader = csv.reader(f)\n",
    "        for row in reader:\n",
    "            try: \n",
    "                if int(row[1]) in chunk_ids:\n",
    "                    if int(row[1]) not in chunk_data:\n",
    "                        chunk_data[int(row[1])] = [float(row[2])]\n",
    "                    else:\n",
    "                        chunk_data[int(row[1])].append(float(row[2]))\n",
    "            except:\n",
    "                # print(\"??\")\n",
    "                continue\n",
    "    print(iteration, \" done \", len(chunk_data),\"Took {:.3f}\".format(time.time()-stm))\n",
    "    for key in chunk_data:\n",
    "        print(\"key: \", key, \"len-value\", len(chunk_data[key]))\n",
    "    break\n",
    "    iteration += 1\n",
    "        \n",
    "print(\"Iterations: \", iteration)\n",
    "print(\"Took {:.3f}\".format(time.time()-starting_tm))"
   ],
   "metadata": {
    "collapsed": false,
    "pycharm": {
     "name": "#%%\n",
     "is_executing": false
    }
   }
  },
  {
   "cell_type": "code",
   "execution_count": null,
   "outputs": [],
   "source": [
    "with open(ratings_path) as f:\n",
    "    reader = csv.reader(f)\n",
    "    users = {}\n",
    "    for row in reader:\n",
    "        uid = row[0]\n",
    "        if uid not in users:\n",
    "            users[uid] = 1\n",
    "        else:\n",
    "            users[uid] += 1\n",
    "\n",
    "for uid in users:\n",
    "    print(uid,\":\", users[uid])\n",
    "    break\n",
    "            \n",
    "        "
   ],
   "metadata": {
    "collapsed": false,
    "pycharm": {
     "name": "#%%\n",
     "is_executing": true
    }
   }
  },
  {
   "cell_type": "code",
   "execution_count": null,
   "outputs": [],
   "source": [
    "\n"
   ],
   "metadata": {
    "collapsed": false,
    "pycharm": {
     "name": "#%%\n"
    }
   }
  }
 ],
 "metadata": {
  "kernelspec": {
   "display_name": "Python 3",
   "language": "python",
   "name": "python3"
  },
  "language_info": {
   "codemirror_mode": {
    "name": "ipython",
    "version": 2
   },
   "file_extension": ".py",
   "mimetype": "text/x-python",
   "name": "python",
   "nbconvert_exporter": "python",
   "pygments_lexer": "ipython2",
   "version": "2.7.6"
  },
  "pycharm": {
   "stem_cell": {
    "cell_type": "raw",
    "source": [],
    "metadata": {
     "collapsed": false
    }
   }
  }
 },
 "nbformat": 4,
 "nbformat_minor": 0
}